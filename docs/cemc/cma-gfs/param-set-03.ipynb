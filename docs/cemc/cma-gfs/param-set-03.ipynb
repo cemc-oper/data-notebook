{
 "cells": [
  {
   "cell_type": "markdown",
   "id": "0",
   "metadata": {},
   "source": [
    "# 要素清单：22-45"
   ]
  },
  {
   "cell_type": "code",
   "execution_count": null,
   "id": "1",
   "metadata": {},
   "outputs": [],
   "source": [
    "import numpy as np\n",
    "import pandas as pd\n",
    "import xarray as xr\n",
    "\n",
    "from reki.data_finder import find_local_file\n",
    "from reki.format.grib.eccodes import load_field_from_file"
   ]
  },
  {
   "cell_type": "code",
   "execution_count": null,
   "id": "2",
   "metadata": {},
   "outputs": [],
   "source": [
    "start_time = pd.Timestamp.utcnow().floor(freq=\"D\") - pd.Timedelta(days=2)\n",
    "start_time_label = start_time.strftime(\"%Y%m%d%H\")\n",
    "forecast_time_label = \"24h\"\n",
    "forecast_time = pd.to_timedelta(forecast_time_label)\n",
    "\n",
    "gfs_grib2_orig_file_path = find_local_file(\n",
    "    \"cma_gfs_gmf/grib2/orig\",\n",
    "    start_time=start_time,\n",
    "    forecast_time=forecast_time,\n",
    ")\n",
    "gfs_grib2_orig_file_path"
   ]
  },
  {
   "cell_type": "markdown",
   "id": "3",
   "metadata": {},
   "source": [
    "## 粗糙度\n",
    "\n",
    "| 要素名 | wgrib2 | eccodes | cemc | GRIB Key | 层次类型 | 层次 | 编号 |\n",
    "|--------|---------|--------|------|----------|--------|-----|-----|\n",
    "| 粗糙度 | - | - | znt | (0, 3, 228) | surface | - | 22 |"
   ]
  },
  {
   "cell_type": "code",
   "execution_count": null,
   "id": "4",
   "metadata": {},
   "outputs": [],
   "source": [
    "field = load_field_from_file(\n",
    "    gfs_grib2_orig_file_path,\n",
    "    parameter=\"znt\",\n",
    ")\n",
    "assert field.attrs[\"GRIB_count\"] == 22"
   ]
  },
  {
   "cell_type": "code",
   "execution_count": null,
   "id": "5",
   "metadata": {},
   "outputs": [],
   "source": [
    "field = load_field_from_file(\n",
    "    gfs_grib2_orig_file_path,\n",
    "    parameter={\n",
    "        \"discipline\": 0,\n",
    "        \"parameterCategory\": 3,\n",
    "        \"parameterNumber\": 228,\n",
    "    },\n",
    ")\n",
    "assert field.attrs[\"GRIB_count\"] == 22"
   ]
  },
  {
   "cell_type": "markdown",
   "id": "6",
   "metadata": {},
   "source": [
    "## 地形高度\n",
    "\n",
    "| 要素名 | wgrib2 | eccodes | cemc | GRIB Key | 层次类型 | 层次 | 编号 |\n",
    "|--------|---------|--------|------|----------|--------|-----|-------|\n",
    "| 地形高度 | HGT | orog | zs | (0, 3, 5) | surface | - | 23 |"
   ]
  },
  {
   "cell_type": "code",
   "execution_count": null,
   "id": "7",
   "metadata": {},
   "outputs": [],
   "source": [
    "field = load_field_from_file(\n",
    "    gfs_grib2_orig_file_path,\n",
    "    parameter=\"HGT\",\n",
    "    level_type=\"surface\"\n",
    ")\n",
    "assert field.attrs[\"GRIB_count\"] == 23"
   ]
  },
  {
   "cell_type": "code",
   "execution_count": null,
   "id": "8",
   "metadata": {},
   "outputs": [],
   "source": [
    "field = load_field_from_file(\n",
    "    gfs_grib2_orig_file_path,\n",
    "    parameter=\"orog\",\n",
    ")\n",
    "assert field.attrs[\"GRIB_count\"] == 23"
   ]
  },
  {
   "cell_type": "code",
   "execution_count": null,
   "id": "9",
   "metadata": {},
   "outputs": [],
   "source": [
    "field = load_field_from_file(\n",
    "    gfs_grib2_orig_file_path,\n",
    "    parameter=\"zs\",\n",
    ")\n",
    "assert field.attrs[\"GRIB_count\"] == 23"
   ]
  },
  {
   "cell_type": "code",
   "execution_count": null,
   "id": "10",
   "metadata": {},
   "outputs": [],
   "source": [
    "field = load_field_from_file(\n",
    "    gfs_grib2_orig_file_path,\n",
    "    parameter={\n",
    "        \"discipline\": 0,\n",
    "        \"parameterCategory\": 3,\n",
    "        \"parameterNumber\": 5,\n",
    "    },\n",
    "    level_type=\"sfc\",\n",
    ")\n",
    "assert field.attrs[\"GRIB_count\"] == 23"
   ]
  },
  {
   "cell_type": "markdown",
   "id": "11",
   "metadata": {},
   "source": [
    "## 2sh/2t"
   ]
  },
  {
   "cell_type": "markdown",
   "id": "12",
   "metadata": {},
   "source": [
    "### 2米比湿\n",
    "\n",
    "| 要素名 | wgrib2 | eccodes | cemc | GRIB Key | 层次类型 | 层次 | 编号 |\n",
    "|--------|---------|--------|------|----------|--------|------|------|\n",
    "| 2米比湿 | SPFH | 2sh | q2m | (0, 1, 0) | heightAboveGround | 2 | 24 |"
   ]
  },
  {
   "cell_type": "code",
   "execution_count": null,
   "id": "13",
   "metadata": {},
   "outputs": [],
   "source": [
    "field = load_field_from_file(\n",
    "    gfs_grib2_orig_file_path,\n",
    "    parameter=\"SPFH\",\n",
    "    level_type=\"heightAboveGround\",\n",
    "    level=2,\n",
    ")\n",
    "assert field.attrs[\"GRIB_count\"] == 24"
   ]
  },
  {
   "cell_type": "code",
   "execution_count": null,
   "id": "14",
   "metadata": {},
   "outputs": [],
   "source": [
    "field = load_field_from_file(\n",
    "    gfs_grib2_orig_file_path,\n",
    "    parameter=\"2sh\",\n",
    ")\n",
    "assert field.attrs[\"GRIB_count\"] == 24"
   ]
  },
  {
   "cell_type": "code",
   "execution_count": null,
   "id": "15",
   "metadata": {},
   "outputs": [],
   "source": [
    "field = load_field_from_file(\n",
    "    gfs_grib2_orig_file_path,\n",
    "    parameter=\"q2m\",\n",
    ")\n",
    "assert field.attrs[\"GRIB_count\"] == 24"
   ]
  },
  {
   "cell_type": "code",
   "execution_count": null,
   "id": "16",
   "metadata": {},
   "outputs": [],
   "source": [
    "field = load_field_from_file(\n",
    "    gfs_grib2_orig_file_path,\n",
    "    parameter={\n",
    "        \"discipline\": 0,\n",
    "        \"parameterCategory\": 1,\n",
    "        \"parameterNumber\": 0,\n",
    "    },\n",
    "    level_type=\"heightAboveGround\",\n",
    "    level=2,\n",
    ")\n",
    "assert field.attrs[\"GRIB_count\"] == 24"
   ]
  },
  {
   "cell_type": "markdown",
   "id": "17",
   "metadata": {},
   "source": [
    "### 2米温度\n",
    "\n",
    "| 要素名 | wgrib2 | eccodes | cemc | GRIB Key | 层次类型 | 层次 | 编号 |\n",
    "|--------|---------|--------|------|----------|--------|------|------|\n",
    "| 2米温度 | TMP | 2t | t2m | (0, 0, 0) | heightAboveGround | 2 | 25 |"
   ]
  },
  {
   "cell_type": "code",
   "execution_count": null,
   "id": "18",
   "metadata": {},
   "outputs": [],
   "source": [
    "field = load_field_from_file(\n",
    "    gfs_grib2_orig_file_path,\n",
    "    parameter=\"TMP\",\n",
    "    level_type=\"heightAboveGround\",\n",
    "    level=2,\n",
    ")\n",
    "assert field.attrs[\"GRIB_count\"] == 25"
   ]
  },
  {
   "cell_type": "code",
   "execution_count": null,
   "id": "19",
   "metadata": {},
   "outputs": [],
   "source": [
    "field = load_field_from_file(\n",
    "    gfs_grib2_orig_file_path,\n",
    "    parameter=\"2t\",\n",
    ")\n",
    "assert field.attrs[\"GRIB_count\"] == 25"
   ]
  },
  {
   "cell_type": "code",
   "execution_count": null,
   "id": "20",
   "metadata": {},
   "outputs": [],
   "source": [
    "field = load_field_from_file(\n",
    "    gfs_grib2_orig_file_path,\n",
    "    parameter=\"t2m\",\n",
    ")\n",
    "assert field.attrs[\"GRIB_count\"] == 25"
   ]
  },
  {
   "cell_type": "code",
   "execution_count": null,
   "id": "21",
   "metadata": {},
   "outputs": [],
   "source": [
    "field = load_field_from_file(\n",
    "    gfs_grib2_orig_file_path,\n",
    "    parameter={\n",
    "        \"discipline\": 0,\n",
    "        \"parameterCategory\": 0,\n",
    "        \"parameterNumber\": 0,\n",
    "    },\n",
    "    level_type=\"heightAboveGround\",\n",
    "    level=2,\n",
    ")\n",
    "assert field.attrs[\"GRIB_count\"] == 25"
   ]
  },
  {
   "cell_type": "markdown",
   "id": "22",
   "metadata": {},
   "source": [
    "## 10u/10v"
   ]
  },
  {
   "cell_type": "markdown",
   "id": "23",
   "metadata": {},
   "source": [
    "### 10米U\n",
    "\n",
    "| 要素名 | wgrib2 | eccodes | cemc | GRIB Key | 层次类型 | 层次 | 编号 |\n",
    "|--------|---------|--------|------|----------|--------|------|------|\n",
    "| 10米U | UGRD | 10u | u10m | (0, 2, 2) | heightAboveGround | 10 | 26 |"
   ]
  },
  {
   "cell_type": "code",
   "execution_count": null,
   "id": "24",
   "metadata": {},
   "outputs": [],
   "source": [
    "field = load_field_from_file(\n",
    "    gfs_grib2_orig_file_path,\n",
    "    parameter=\"UGRD\",\n",
    "    level_type=\"heightAboveGround\",\n",
    "    level=10,\n",
    ")\n",
    "assert field.attrs[\"GRIB_count\"] == 26"
   ]
  },
  {
   "cell_type": "code",
   "execution_count": null,
   "id": "25",
   "metadata": {},
   "outputs": [],
   "source": [
    "field = load_field_from_file(\n",
    "    gfs_grib2_orig_file_path,\n",
    "    parameter=\"10u\",\n",
    ")\n",
    "assert field.attrs[\"GRIB_count\"] == 26"
   ]
  },
  {
   "cell_type": "code",
   "execution_count": null,
   "id": "26",
   "metadata": {},
   "outputs": [],
   "source": [
    "field = load_field_from_file(\n",
    "    gfs_grib2_orig_file_path,\n",
    "    parameter=\"u10m\",\n",
    ")\n",
    "assert field.attrs[\"GRIB_count\"] == 26"
   ]
  },
  {
   "cell_type": "code",
   "execution_count": null,
   "id": "27",
   "metadata": {},
   "outputs": [],
   "source": [
    "field = load_field_from_file(\n",
    "    gfs_grib2_orig_file_path,\n",
    "    parameter={\n",
    "        \"discipline\": 0,\n",
    "        \"parameterCategory\": 2,\n",
    "        \"parameterNumber\": 2,\n",
    "    },\n",
    "    level_type=\"heightAboveGround\",\n",
    "    level=10,\n",
    ")\n",
    "assert field.attrs[\"GRIB_count\"] == 26"
   ]
  },
  {
   "cell_type": "markdown",
   "id": "28",
   "metadata": {},
   "source": [
    "### 10米V\n",
    "\n",
    "| 要素名 | wgrib2 | eccodes | cemc | GRIB Key | 层次类型 | 层次 | 编号 |\n",
    "|--------|---------|--------|------|----------|--------|------|------|\n",
    "| 10米V | VGRD | 10v | v10m | (0, 2, 3) | heightAboveGround | 10 | 27 |"
   ]
  },
  {
   "cell_type": "code",
   "execution_count": null,
   "id": "29",
   "metadata": {},
   "outputs": [],
   "source": [
    "field = load_field_from_file(\n",
    "    gfs_grib2_orig_file_path,\n",
    "    parameter=\"VGRD\",\n",
    "    level_type=\"heightAboveGround\",\n",
    "    level=10,\n",
    ")\n",
    "assert field.attrs[\"GRIB_count\"] == 27"
   ]
  },
  {
   "cell_type": "code",
   "execution_count": null,
   "id": "30",
   "metadata": {},
   "outputs": [],
   "source": [
    "field = load_field_from_file(\n",
    "    gfs_grib2_orig_file_path,\n",
    "    parameter=\"10v\",\n",
    ")\n",
    "assert field.attrs[\"GRIB_count\"] == 27"
   ]
  },
  {
   "cell_type": "code",
   "execution_count": null,
   "id": "31",
   "metadata": {},
   "outputs": [],
   "source": [
    "field = load_field_from_file(\n",
    "    gfs_grib2_orig_file_path,\n",
    "    parameter=\"v10m\",\n",
    ")\n",
    "assert field.attrs[\"GRIB_count\"] == 27"
   ]
  },
  {
   "cell_type": "code",
   "execution_count": null,
   "id": "32",
   "metadata": {},
   "outputs": [],
   "source": [
    "field = load_field_from_file(\n",
    "    gfs_grib2_orig_file_path,\n",
    "    parameter={\n",
    "        \"discipline\": 0,\n",
    "        \"parameterCategory\": 2,\n",
    "        \"parameterNumber\": 3,\n",
    "    },\n",
    "    level_type=\"heightAboveGround\",\n",
    "    level=10,\n",
    ")\n",
    "assert field.attrs[\"GRIB_count\"] == 27"
   ]
  },
  {
   "cell_type": "markdown",
   "id": "33",
   "metadata": {},
   "source": [
    "## TCDC/LCDC/MCDC/HCDC"
   ]
  },
  {
   "cell_type": "markdown",
   "id": "34",
   "metadata": {},
   "source": [
    "### 总云量\n",
    "\n",
    "| 要素名 | wgrib2 | eccodes | cemc | GRIB Key | 层次类型 | 层次 | 编号 |\n",
    "|--------|---------|--------|------|----------|--------|------|------|\n",
    "| 总云量 | TCDC | tcc | tcc | (0, 6, 1) | entireAtmosphere | - | 28 |"
   ]
  },
  {
   "cell_type": "code",
   "execution_count": null,
   "id": "35",
   "metadata": {},
   "outputs": [],
   "source": [
    "field = load_field_from_file(\n",
    "    gfs_grib2_orig_file_path,\n",
    "    parameter=\"TCDC\",\n",
    ")\n",
    "assert field.attrs[\"GRIB_count\"] == 28"
   ]
  },
  {
   "cell_type": "code",
   "execution_count": null,
   "id": "36",
   "metadata": {},
   "outputs": [],
   "source": [
    "field = load_field_from_file(\n",
    "    gfs_grib2_orig_file_path,\n",
    "    parameter=\"tcc\",\n",
    ")\n",
    "assert field.attrs[\"GRIB_count\"] == 28"
   ]
  },
  {
   "cell_type": "code",
   "execution_count": null,
   "id": "37",
   "metadata": {},
   "outputs": [],
   "source": [
    "field = load_field_from_file(\n",
    "    gfs_grib2_orig_file_path,\n",
    "    parameter={\n",
    "        \"discipline\": 0,\n",
    "        \"parameterCategory\": 6,\n",
    "        \"parameterNumber\": 1,\n",
    "    },\n",
    "    level_type=\"entireAtmosphere\",\n",
    ")\n",
    "assert field.attrs[\"GRIB_count\"] == 28"
   ]
  },
  {
   "cell_type": "markdown",
   "id": "38",
   "metadata": {},
   "source": [
    "### 低云量\n",
    "\n",
    "| 要素名 | wgrib2 | eccodes | cemc | GRIB Key | 层次类型 | 层次 | 编号 |\n",
    "|--------|---------|--------|------|----------|--------|------|------|\n",
    "| 低云量 | LCDC | lcc | lcc | (0, 6, 3) | entireAtmosphere | - | 29 |"
   ]
  },
  {
   "cell_type": "code",
   "execution_count": null,
   "id": "39",
   "metadata": {},
   "outputs": [],
   "source": [
    "field = load_field_from_file(\n",
    "    gfs_grib2_orig_file_path,\n",
    "    parameter=\"LCDC\",\n",
    ")\n",
    "assert field.attrs[\"GRIB_count\"] == 29"
   ]
  },
  {
   "cell_type": "code",
   "execution_count": null,
   "id": "40",
   "metadata": {},
   "outputs": [],
   "source": [
    "field = load_field_from_file(\n",
    "    gfs_grib2_orig_file_path,\n",
    "    parameter=\"lcc\",\n",
    ")\n",
    "assert field.attrs[\"GRIB_count\"] == 29"
   ]
  },
  {
   "cell_type": "code",
   "execution_count": null,
   "id": "41",
   "metadata": {},
   "outputs": [],
   "source": [
    "field = load_field_from_file(\n",
    "    gfs_grib2_orig_file_path,\n",
    "    parameter={\n",
    "        \"discipline\": 0,\n",
    "        \"parameterCategory\": 6,\n",
    "        \"parameterNumber\": 3,\n",
    "    },\n",
    "    level_type=\"entireAtmosphere\",\n",
    ")\n",
    "assert field.attrs[\"GRIB_count\"] == 29"
   ]
  },
  {
   "cell_type": "markdown",
   "id": "42",
   "metadata": {},
   "source": [
    "### 中云量\n",
    "\n",
    "| 要素名 | wgrib2 | eccodes | cemc | GRIB Key | 层次类型 | 层次 | 编号 |\n",
    "|--------|---------|--------|------|----------|--------|------|------|\n",
    "| 中云量 | MCDC | mcc | mcc | (0, 6, 4) | entireAtmosphere | - | 30 |"
   ]
  },
  {
   "cell_type": "code",
   "execution_count": null,
   "id": "43",
   "metadata": {},
   "outputs": [],
   "source": [
    "field = load_field_from_file(\n",
    "    gfs_grib2_orig_file_path,\n",
    "    parameter=\"MCDC\",\n",
    ")\n",
    "assert field.attrs[\"GRIB_count\"] == 30"
   ]
  },
  {
   "cell_type": "code",
   "execution_count": null,
   "id": "44",
   "metadata": {},
   "outputs": [],
   "source": [
    "field = load_field_from_file(\n",
    "    gfs_grib2_orig_file_path,\n",
    "    parameter=\"mcc\",\n",
    ")\n",
    "assert field.attrs[\"GRIB_count\"] == 30"
   ]
  },
  {
   "cell_type": "code",
   "execution_count": null,
   "id": "45",
   "metadata": {},
   "outputs": [],
   "source": [
    "field = load_field_from_file(\n",
    "    gfs_grib2_orig_file_path,\n",
    "    parameter={\n",
    "        \"discipline\": 0,\n",
    "        \"parameterCategory\": 6,\n",
    "        \"parameterNumber\": 4,\n",
    "    },\n",
    "    level_type=\"entireAtmosphere\",\n",
    ")\n",
    "assert field.attrs[\"GRIB_count\"] == 30"
   ]
  },
  {
   "cell_type": "markdown",
   "id": "46",
   "metadata": {},
   "source": [
    "### 高云量\n",
    "\n",
    "| 要素名 | wgrib2 | eccodes | cemc | GRIB Key | 层次类型 | 层次 | 编号 |\n",
    "|--------|---------|--------|------|----------|--------|------|-------|\n",
    "| 高云量 | HCDC | hcc | hcc | (0, 6, 5) | entireAtmosphere | - | 31 |"
   ]
  },
  {
   "cell_type": "code",
   "execution_count": null,
   "id": "47",
   "metadata": {},
   "outputs": [],
   "source": [
    "field = load_field_from_file(\n",
    "    gfs_grib2_orig_file_path,\n",
    "    parameter=\"HCDC\",\n",
    ")\n",
    "assert field.attrs[\"GRIB_count\"] == 31"
   ]
  },
  {
   "cell_type": "code",
   "execution_count": null,
   "id": "48",
   "metadata": {},
   "outputs": [],
   "source": [
    "field = load_field_from_file(\n",
    "    gfs_grib2_orig_file_path,\n",
    "    parameter=\"hcc\",\n",
    ")\n",
    "assert field.attrs[\"GRIB_count\"] == 31"
   ]
  },
  {
   "cell_type": "code",
   "execution_count": null,
   "id": "49",
   "metadata": {},
   "outputs": [],
   "source": [
    "field = load_field_from_file(\n",
    "    gfs_grib2_orig_file_path,\n",
    "    parameter={\n",
    "        \"discipline\": 0,\n",
    "        \"parameterCategory\": 6,\n",
    "        \"parameterNumber\": 5,\n",
    "    },\n",
    "    level_type=\"entireAtmosphere\",\n",
    ")\n",
    "assert field.attrs[\"GRIB_count\"] == 31"
   ]
  },
  {
   "cell_type": "markdown",
   "id": "50",
   "metadata": {},
   "source": [
    "## TCIWV/TCOLW/TCOLI"
   ]
  },
  {
   "cell_type": "markdown",
   "id": "51",
   "metadata": {},
   "source": [
    "### 大气总柱水汽含量\n",
    "\n",
    "| 要素名 | wgrib2 | eccodes | cemc | GRIB Key | 层次类型 | 层次 | 编号 |\n",
    "|--------|---------|--------|------|----------|--------|------|-----|\n",
    "| 大气总柱水汽含量 | TCIWV | - | tvw | (0, 1, 64) | atmosphere | - | 32 |"
   ]
  },
  {
   "cell_type": "code",
   "execution_count": null,
   "id": "52",
   "metadata": {},
   "outputs": [],
   "source": [
    "field = load_field_from_file(\n",
    "    gfs_grib2_orig_file_path,\n",
    "    parameter=\"TCIWV\",\n",
    ")\n",
    "assert field.attrs[\"GRIB_count\"] == 32"
   ]
  },
  {
   "cell_type": "code",
   "execution_count": null,
   "id": "53",
   "metadata": {},
   "outputs": [],
   "source": [
    "field = load_field_from_file(\n",
    "    gfs_grib2_orig_file_path,\n",
    "    parameter=\"tvw\",\n",
    ")\n",
    "assert field.attrs[\"GRIB_count\"] == 32"
   ]
  },
  {
   "cell_type": "code",
   "execution_count": null,
   "id": "54",
   "metadata": {},
   "outputs": [],
   "source": [
    "field = load_field_from_file(\n",
    "    gfs_grib2_orig_file_path,\n",
    "    parameter={\n",
    "        \"discipline\": 0,\n",
    "        \"parameterCategory\": 1,\n",
    "        \"parameterNumber\": 64,\n",
    "    },\n",
    "    level_type=\"atmosphere\",\n",
    ")\n",
    "assert field.attrs[\"GRIB_count\"] == 32"
   ]
  },
  {
   "cell_type": "markdown",
   "id": "55",
   "metadata": {},
   "source": [
    "### 大气总柱云水qc含量\n",
    "\n",
    "| 要素名 | wgrib2 | eccodes | cemc | GRIB Key | 层次类型 | 层次 | 编号 |\n",
    "|--------|---------|--------|------|----------|--------|------|-------|\n",
    "| 大气总柱云水qc含量 | TCOLW | - | tcw | (0, 1, 69) | atmosphere | - | 33 |"
   ]
  },
  {
   "cell_type": "code",
   "execution_count": null,
   "id": "56",
   "metadata": {},
   "outputs": [],
   "source": [
    "field = load_field_from_file(\n",
    "    gfs_grib2_orig_file_path,\n",
    "    parameter=\"TCOLW\",\n",
    ")\n",
    "assert field.attrs[\"GRIB_count\"] == 33"
   ]
  },
  {
   "cell_type": "code",
   "execution_count": null,
   "id": "57",
   "metadata": {},
   "outputs": [],
   "source": [
    "field = load_field_from_file(\n",
    "    gfs_grib2_orig_file_path,\n",
    "    parameter=\"tcw\",\n",
    ")\n",
    "assert field.attrs[\"GRIB_count\"] == 33"
   ]
  },
  {
   "cell_type": "code",
   "execution_count": null,
   "id": "58",
   "metadata": {},
   "outputs": [],
   "source": [
    "field = load_field_from_file(\n",
    "    gfs_grib2_orig_file_path,\n",
    "    parameter={\n",
    "        \"discipline\": 0,\n",
    "        \"parameterCategory\": 1,\n",
    "        \"parameterNumber\": 69,\n",
    "    },\n",
    "    level_type=\"atmosphere\",\n",
    ")\n",
    "assert field.attrs[\"GRIB_count\"] == 33"
   ]
  },
  {
   "cell_type": "markdown",
   "id": "59",
   "metadata": {},
   "source": [
    "### 大气总柱云冰含量\n",
    "\n",
    "| 要素名 | wgrib2 | eccodes | cemc | GRIB Key | 层次类型 | 层次 | 编号 |\n",
    "|--------|---------|--------|------|----------|--------|------|------|\n",
    "| 大气总柱云冰含量 | TCOLI | - | tiw | (0, 1, 70) | atmosphere | - | 34 |"
   ]
  },
  {
   "cell_type": "code",
   "execution_count": null,
   "id": "60",
   "metadata": {},
   "outputs": [],
   "source": [
    "field = load_field_from_file(\n",
    "    gfs_grib2_orig_file_path,\n",
    "    parameter=\"TCOLI\",\n",
    ")\n",
    "assert field.attrs[\"GRIB_count\"] == 34"
   ]
  },
  {
   "cell_type": "code",
   "execution_count": null,
   "id": "61",
   "metadata": {},
   "outputs": [],
   "source": [
    "field = load_field_from_file(\n",
    "    gfs_grib2_orig_file_path,\n",
    "    parameter=\"tiw\",\n",
    ")\n",
    "assert field.attrs[\"GRIB_count\"] == 34"
   ]
  },
  {
   "cell_type": "code",
   "execution_count": null,
   "id": "62",
   "metadata": {},
   "outputs": [],
   "source": [
    "field = load_field_from_file(\n",
    "    gfs_grib2_orig_file_path,\n",
    "    parameter={\n",
    "        \"discipline\": 0,\n",
    "        \"parameterCategory\": 1,\n",
    "        \"parameterNumber\": 70,\n",
    "    },\n",
    "    level_type=\"atmosphere\",\n",
    ")\n",
    "assert field.attrs[\"GRIB_count\"] == 34"
   ]
  },
  {
   "cell_type": "markdown",
   "id": "63",
   "metadata": {},
   "source": [
    "## 边界层高度\n",
    "\n",
    "\n",
    "| 要素名 | wgrib2 | eccodes | cemc | GRIB Key | 层次类型 | 层次 | 编号 |\n",
    "|--------|---------|--------|------|----------|--------|------|------|\n",
    "| 边界层高度 | HPBL | blh | pblh | (0, 3, 18)  | surface | - | 35 |"
   ]
  },
  {
   "cell_type": "code",
   "execution_count": null,
   "id": "64",
   "metadata": {},
   "outputs": [],
   "source": [
    "field = load_field_from_file(\n",
    "    gfs_grib2_orig_file_path,\n",
    "    parameter=\"HPBL\",\n",
    ")\n",
    "assert field.attrs[\"GRIB_count\"] == 35"
   ]
  },
  {
   "cell_type": "code",
   "execution_count": null,
   "id": "65",
   "metadata": {},
   "outputs": [],
   "source": [
    "field = load_field_from_file(\n",
    "    gfs_grib2_orig_file_path,\n",
    "    parameter=\"blh\",\n",
    ")\n",
    "assert field.attrs[\"GRIB_count\"] == 35"
   ]
  },
  {
   "cell_type": "code",
   "execution_count": null,
   "id": "66",
   "metadata": {},
   "outputs": [],
   "source": [
    "field = load_field_from_file(\n",
    "    gfs_grib2_orig_file_path,\n",
    "    parameter=\"pblh\",\n",
    ")\n",
    "assert field.attrs[\"GRIB_count\"] == 35"
   ]
  },
  {
   "cell_type": "code",
   "execution_count": null,
   "id": "67",
   "metadata": {},
   "outputs": [],
   "source": [
    "field = load_field_from_file(\n",
    "    gfs_grib2_orig_file_path,\n",
    "    parameter={\n",
    "        \"discipline\": 0,\n",
    "        \"parameterCategory\": 3,\n",
    "        \"parameterNumber\": 18,\n",
    "    },\n",
    "    level_type=\"surface\",\n",
    ")\n",
    "assert field.attrs[\"GRIB_count\"] == 35"
   ]
  },
  {
   "cell_type": "markdown",
   "id": "68",
   "metadata": {},
   "source": [
    "## 东西向应力\n",
    "\n",
    "| 要素名 | wgrib2 | eccodes | cemc | GRIB Key | 层次类型 | 层次 | 编号 |\n",
    "|--------|---------|--------|------|----------|--------|------|------|\n",
    "| 东西向应力 | - | - | wess | (0, 2, 227)  | surface | - | 36 |"
   ]
  },
  {
   "cell_type": "code",
   "execution_count": null,
   "id": "69",
   "metadata": {},
   "outputs": [],
   "source": [
    "field = load_field_from_file(\n",
    "    gfs_grib2_orig_file_path,\n",
    "    parameter=\"wess\",\n",
    ")\n",
    "assert field.attrs[\"GRIB_count\"] == 36"
   ]
  },
  {
   "cell_type": "code",
   "execution_count": null,
   "id": "70",
   "metadata": {},
   "outputs": [],
   "source": [
    "field = load_field_from_file(\n",
    "    gfs_grib2_orig_file_path,\n",
    "    parameter={\n",
    "        \"discipline\": 0,\n",
    "        \"parameterCategory\": 2,\n",
    "        \"parameterNumber\": 227,\n",
    "    },\n",
    "    level_type=\"surface\",\n",
    ")\n",
    "assert field.attrs[\"GRIB_count\"] == 36"
   ]
  },
  {
   "cell_type": "markdown",
   "id": "71",
   "metadata": {},
   "source": [
    "## 南北向应力\n",
    "\n",
    "| 要素名 | wgrib2 | eccodes | cemc | GRIB Key | 层次类型 | 层次 | 编号 |\n",
    "|--------|---------|--------|------|----------|--------|------|------|\n",
    "| 南北向应力 | - | - | nsss | (0, 2, 228)  | surface | - | 37 |"
   ]
  },
  {
   "cell_type": "code",
   "execution_count": null,
   "id": "72",
   "metadata": {},
   "outputs": [],
   "source": [
    "field = load_field_from_file(\n",
    "    gfs_grib2_orig_file_path,\n",
    "    parameter=\"nsss\",\n",
    ")\n",
    "assert field.attrs[\"GRIB_count\"] == 37"
   ]
  },
  {
   "cell_type": "code",
   "execution_count": null,
   "id": "73",
   "metadata": {},
   "outputs": [],
   "source": [
    "field = load_field_from_file(\n",
    "    gfs_grib2_orig_file_path,\n",
    "    parameter={\n",
    "        \"discipline\": 0,\n",
    "        \"parameterCategory\": 2,\n",
    "        \"parameterNumber\": 228,\n",
    "    },\n",
    "    level_type=\"surface\",\n",
    ")\n",
    "assert field.attrs[\"GRIB_count\"] == 37"
   ]
  },
  {
   "cell_type": "markdown",
   "id": "74",
   "metadata": {},
   "source": [
    "## 雪深\n",
    "\n",
    "| 要素名 | wgrib2 | eccodes | cemc | GRIB Key | 层次类型 | 层次 | 编号 |\n",
    "|--------|---------|--------|------|----------|--------|------|-----|\n",
    "| 雪深 | SNOD | sde | sd | (0, 1, 11)  | surface | - | 38 |"
   ]
  },
  {
   "cell_type": "code",
   "execution_count": null,
   "id": "75",
   "metadata": {},
   "outputs": [],
   "source": [
    "field = load_field_from_file(\n",
    "    gfs_grib2_orig_file_path,\n",
    "    parameter=\"SNOD\",\n",
    ")\n",
    "assert field.attrs[\"GRIB_count\"] == 38"
   ]
  },
  {
   "cell_type": "code",
   "execution_count": null,
   "id": "76",
   "metadata": {},
   "outputs": [],
   "source": [
    "field = load_field_from_file(\n",
    "    gfs_grib2_orig_file_path,\n",
    "    parameter=\"sde\",\n",
    ")\n",
    "assert field.attrs[\"GRIB_count\"] == 38"
   ]
  },
  {
   "cell_type": "code",
   "execution_count": null,
   "id": "77",
   "metadata": {},
   "outputs": [],
   "source": [
    "field = load_field_from_file(\n",
    "    gfs_grib2_orig_file_path,\n",
    "    parameter=\"sd\",\n",
    ")\n",
    "assert field.attrs[\"GRIB_count\"] == 38"
   ]
  },
  {
   "cell_type": "code",
   "execution_count": null,
   "id": "78",
   "metadata": {},
   "outputs": [],
   "source": [
    "field = load_field_from_file(\n",
    "    gfs_grib2_orig_file_path,\n",
    "    parameter={\n",
    "        \"discipline\": 0,\n",
    "        \"parameterCategory\": 1,\n",
    "        \"parameterNumber\": 11,\n",
    "    },\n",
    ")\n",
    "assert field.attrs[\"GRIB_count\"] == 38"
   ]
  },
  {
   "cell_type": "markdown",
   "id": "79",
   "metadata": {},
   "source": [
    "## 反照率\n",
    "\n",
    "| 要素名 | wgrib2 | eccodes | cemc | GRIB Key | 层次类型 | 层次 | 编号 |\n",
    "|--------|---------|--------|------|----------|--------|------|------|\n",
    "| 反照率 | ALBDO | al | albedo | (0, 19, 1)  | surface | - | 39 |"
   ]
  },
  {
   "cell_type": "code",
   "execution_count": null,
   "id": "80",
   "metadata": {},
   "outputs": [],
   "source": [
    "field = load_field_from_file(\n",
    "    gfs_grib2_orig_file_path,\n",
    "    parameter=\"ALBDO\",\n",
    ")\n",
    "assert field.attrs[\"GRIB_count\"] == 39"
   ]
  },
  {
   "cell_type": "code",
   "execution_count": null,
   "id": "81",
   "metadata": {},
   "outputs": [],
   "source": [
    "field = load_field_from_file(\n",
    "    gfs_grib2_orig_file_path,\n",
    "    parameter=\"al\",\n",
    ")\n",
    "assert field.attrs[\"GRIB_count\"] == 39"
   ]
  },
  {
   "cell_type": "code",
   "execution_count": null,
   "id": "82",
   "metadata": {},
   "outputs": [],
   "source": [
    "field = load_field_from_file(\n",
    "    gfs_grib2_orig_file_path,\n",
    "    parameter=\"albedo\",\n",
    ")\n",
    "assert field.attrs[\"GRIB_count\"] == 39"
   ]
  },
  {
   "cell_type": "code",
   "execution_count": null,
   "id": "83",
   "metadata": {},
   "outputs": [],
   "source": [
    "field = load_field_from_file(\n",
    "    gfs_grib2_orig_file_path,\n",
    "    parameter={\n",
    "        \"discipline\": 0,\n",
    "        \"parameterCategory\": 19,\n",
    "        \"parameterNumber\": 1,\n",
    "    },\n",
    ")\n",
    "assert field.attrs[\"GRIB_count\"] == 39"
   ]
  },
  {
   "cell_type": "markdown",
   "id": "84",
   "metadata": {},
   "source": [
    "## TMAX/TMIN/RHMAX/RHMIN"
   ]
  },
  {
   "cell_type": "markdown",
   "id": "85",
   "metadata": {},
   "source": [
    "### 2m最高温度\n",
    "\n",
    "| 要素名 | wgrib2 | eccodes | cemc | GRIB Key | 层次类型 | 层次 | 编号 |\n",
    "|--------|---------|--------|------|----------|--------|------|------|\n",
    "| 2m最高温度 | TMAX | tmax | mx2t, tmax2m | (0, 0, 4)  | heightAboveGround | 2 | 40 |"
   ]
  },
  {
   "cell_type": "code",
   "execution_count": null,
   "id": "86",
   "metadata": {},
   "outputs": [],
   "source": [
    "field = load_field_from_file(\n",
    "    gfs_grib2_orig_file_path,\n",
    "    parameter=\"TMAX\",\n",
    "    level_type=\"heightAboveGround\",\n",
    "    level=2,\n",
    ")\n",
    "assert field.attrs[\"GRIB_count\"] == 40"
   ]
  },
  {
   "cell_type": "code",
   "execution_count": null,
   "id": "87",
   "metadata": {},
   "outputs": [],
   "source": [
    "field = load_field_from_file(\n",
    "    gfs_grib2_orig_file_path,\n",
    "    parameter=\"tmax\",\n",
    "    level_type=\"heightAboveGround\",\n",
    "    level=2,\n",
    ")\n",
    "assert field.attrs[\"GRIB_count\"] == 40"
   ]
  },
  {
   "cell_type": "code",
   "execution_count": null,
   "id": "88",
   "metadata": {},
   "outputs": [],
   "source": [
    "field = load_field_from_file(\n",
    "    gfs_grib2_orig_file_path,\n",
    "    parameter=\"tmax2m\",\n",
    ")\n",
    "assert field.attrs[\"GRIB_count\"] == 40"
   ]
  },
  {
   "cell_type": "code",
   "execution_count": null,
   "id": "89",
   "metadata": {},
   "outputs": [],
   "source": [
    "field = load_field_from_file(\n",
    "    gfs_grib2_orig_file_path,\n",
    "    parameter={\n",
    "        \"discipline\": 0,\n",
    "        \"parameterCategory\": 0,\n",
    "        \"parameterNumber\": 4,\n",
    "    },\n",
    "    level_type=\"heightAboveGround\",\n",
    "    level=2,\n",
    ")\n",
    "assert field.attrs[\"GRIB_count\"] == 40"
   ]
  },
  {
   "cell_type": "markdown",
   "id": "90",
   "metadata": {},
   "source": [
    "### 2m最低温度\n",
    "\n",
    "| 要素名 | wgrib2 | eccodes | cemc | GRIB Key | 层次类型 | 层次 | 编号 |\n",
    "|--------|---------|--------|------|----------|--------|------|------|\n",
    "| 2m最低温度 | TMIN | tmin | mn2t, tmin2m | (0, 0, 5)  | heightAboveGround | 2 | 41 |"
   ]
  },
  {
   "cell_type": "code",
   "execution_count": null,
   "id": "91",
   "metadata": {},
   "outputs": [],
   "source": [
    "field = load_field_from_file(\n",
    "    gfs_grib2_orig_file_path,\n",
    "    parameter=\"TMIN\",\n",
    "    level_type=\"heightAboveGround\",\n",
    "    level=2,\n",
    ")\n",
    "assert field.attrs[\"GRIB_count\"] == 41"
   ]
  },
  {
   "cell_type": "code",
   "execution_count": null,
   "id": "92",
   "metadata": {},
   "outputs": [],
   "source": [
    "field = load_field_from_file(\n",
    "    gfs_grib2_orig_file_path,\n",
    "    parameter=\"tmin\",\n",
    "    level_type=\"heightAboveGround\",\n",
    "    level=2,\n",
    ")\n",
    "assert field.attrs[\"GRIB_count\"] == 41"
   ]
  },
  {
   "cell_type": "code",
   "execution_count": null,
   "id": "93",
   "metadata": {},
   "outputs": [],
   "source": [
    "field = load_field_from_file(\n",
    "    gfs_grib2_orig_file_path,\n",
    "    parameter=\"tmin2m\",\n",
    ")\n",
    "assert field.attrs[\"GRIB_count\"] == 41"
   ]
  },
  {
   "cell_type": "code",
   "execution_count": null,
   "id": "94",
   "metadata": {},
   "outputs": [],
   "source": [
    "field = load_field_from_file(\n",
    "    gfs_grib2_orig_file_path,\n",
    "    parameter={\n",
    "        \"discipline\": 0,\n",
    "        \"parameterCategory\": 0,\n",
    "        \"parameterNumber\": 5,\n",
    "    },\n",
    "    level_type=\"heightAboveGround\",\n",
    "    level=2,\n",
    ")\n",
    "assert field.attrs[\"GRIB_count\"] == 41"
   ]
  },
  {
   "cell_type": "markdown",
   "id": "95",
   "metadata": {},
   "source": [
    "### 2m最高相对湿度\n",
    "\n",
    "| 要素名 | wgrib2 | eccodes | cemc | GRIB Key | 层次类型 | 层次 | 编号 |\n",
    "|--------|---------|--------|------|----------|--------|------|------|\n",
    "| 2m最低温度 | - | - | rhmax2m | (0, 1, 231)  | heightAboveGround | 2 | 42 |"
   ]
  },
  {
   "cell_type": "code",
   "execution_count": null,
   "id": "96",
   "metadata": {},
   "outputs": [],
   "source": [
    "field = load_field_from_file(\n",
    "    gfs_grib2_orig_file_path,\n",
    "    parameter=\"rhmax2m\",\n",
    ")\n",
    "assert field.attrs[\"GRIB_count\"] == 42"
   ]
  },
  {
   "cell_type": "code",
   "execution_count": null,
   "id": "97",
   "metadata": {},
   "outputs": [],
   "source": [
    "field = load_field_from_file(\n",
    "    gfs_grib2_orig_file_path,\n",
    "    parameter={\n",
    "        \"discipline\": 0,\n",
    "        \"parameterCategory\": 1,\n",
    "        \"parameterNumber\": 231,\n",
    "    },\n",
    "    level_type=\"heightAboveGround\",\n",
    "    level=2,\n",
    ")\n",
    "assert field.attrs[\"GRIB_count\"] == 42"
   ]
  },
  {
   "cell_type": "markdown",
   "id": "98",
   "metadata": {},
   "source": [
    "### 2m最低相对湿度\n",
    "\n",
    "| 要素名 | wgrib2 | eccodes | cemc | GRIB Key | 层次类型 | 层次 | 编号 |\n",
    "|--------|---------|--------|------|----------|--------|------|-------|\n",
    "| 2m最低相对湿度 | - | - | rhmin2m | (0, 1, 232)  | heightAboveGround | 2 | 43 |"
   ]
  },
  {
   "cell_type": "code",
   "execution_count": null,
   "id": "99",
   "metadata": {},
   "outputs": [],
   "source": [
    "field = load_field_from_file(\n",
    "    gfs_grib2_orig_file_path,\n",
    "    parameter=\"rhmin2m\",\n",
    ")\n",
    "assert field.attrs[\"GRIB_count\"] == 43"
   ]
  },
  {
   "cell_type": "code",
   "execution_count": null,
   "id": "100",
   "metadata": {},
   "outputs": [],
   "source": [
    "field = load_field_from_file(\n",
    "    gfs_grib2_orig_file_path,\n",
    "    parameter={\n",
    "        \"discipline\": 0,\n",
    "        \"parameterCategory\": 1,\n",
    "        \"parameterNumber\": 232,\n",
    "    },\n",
    "    level_type=\"heightAboveGround\",\n",
    "    level=2,\n",
    ")\n",
    "assert field.attrs[\"GRIB_count\"] == 43"
   ]
  },
  {
   "cell_type": "markdown",
   "id": "101",
   "metadata": {},
   "source": [
    "## PRES/PRMSL"
   ]
  },
  {
   "cell_type": "markdown",
   "id": "102",
   "metadata": {},
   "source": [
    "### 地面气压\n",
    "\n",
    "| 要素名 | wgrib2 | eccodes | cemc | GRIB Key | 层次类型 | 层次 | 编号 |\n",
    "|--------|---------|--------|------|----------|--------|------|------|\n",
    "| 地面气压 | PRES | sp | ps | (0, 3, 0)  | surface | - | 44 |"
   ]
  },
  {
   "cell_type": "code",
   "execution_count": null,
   "id": "103",
   "metadata": {},
   "outputs": [],
   "source": [
    "field = load_field_from_file(\n",
    "    gfs_grib2_orig_file_path,\n",
    "    parameter=\"PRES\",\n",
    ")\n",
    "assert field.attrs[\"GRIB_count\"] == 44"
   ]
  },
  {
   "cell_type": "code",
   "execution_count": null,
   "id": "104",
   "metadata": {},
   "outputs": [],
   "source": [
    "field = load_field_from_file(\n",
    "    gfs_grib2_orig_file_path,\n",
    "    parameter=\"sp\",\n",
    ")\n",
    "assert field.attrs[\"GRIB_count\"] == 44"
   ]
  },
  {
   "cell_type": "code",
   "execution_count": null,
   "id": "105",
   "metadata": {},
   "outputs": [],
   "source": [
    "field = load_field_from_file(\n",
    "    gfs_grib2_orig_file_path,\n",
    "    parameter=\"ps\",\n",
    ")\n",
    "assert field.attrs[\"GRIB_count\"] == 44"
   ]
  },
  {
   "cell_type": "code",
   "execution_count": null,
   "id": "106",
   "metadata": {},
   "outputs": [],
   "source": [
    "field = load_field_from_file(\n",
    "    gfs_grib2_orig_file_path,\n",
    "    parameter={\n",
    "        \"discipline\": 0,\n",
    "        \"parameterCategory\": 3,\n",
    "        \"parameterNumber\": 0,\n",
    "    },\n",
    "    level_type=\"surface\",\n",
    ")\n",
    "assert field.attrs[\"GRIB_count\"] == 44"
   ]
  },
  {
   "cell_type": "markdown",
   "id": "107",
   "metadata": {},
   "source": [
    "### 海平面气压\n",
    "\n",
    "| 要素名 | wgrib2 | eccodes | cemc | GRIB Key | 层次类型 | 层次 | 编号 |\n",
    "|--------|---------|--------|------|----------|--------|------|------|\n",
    "| 海平面气压 | PRMSL | prmsl | psl | (0, 3, 1)  | meanSea | - | 45 |"
   ]
  },
  {
   "cell_type": "code",
   "execution_count": null,
   "id": "108",
   "metadata": {},
   "outputs": [],
   "source": [
    "field = load_field_from_file(\n",
    "    gfs_grib2_orig_file_path,\n",
    "    parameter=\"PRMSL\",\n",
    ")\n",
    "assert field.attrs[\"GRIB_count\"] == 45"
   ]
  },
  {
   "cell_type": "code",
   "execution_count": null,
   "id": "109",
   "metadata": {},
   "outputs": [],
   "source": [
    "field = load_field_from_file(\n",
    "    gfs_grib2_orig_file_path,\n",
    "    parameter=\"prmsl\",\n",
    ")\n",
    "assert field.attrs[\"GRIB_count\"] == 45"
   ]
  },
  {
   "cell_type": "code",
   "execution_count": null,
   "id": "110",
   "metadata": {},
   "outputs": [],
   "source": [
    "field = load_field_from_file(\n",
    "    gfs_grib2_orig_file_path,\n",
    "    parameter=\"psl\",\n",
    ")\n",
    "assert field.attrs[\"GRIB_count\"] == 45"
   ]
  },
  {
   "cell_type": "code",
   "execution_count": null,
   "id": "111",
   "metadata": {},
   "outputs": [],
   "source": [
    "field = load_field_from_file(\n",
    "    gfs_grib2_orig_file_path,\n",
    "    parameter={\n",
    "        \"discipline\": 0,\n",
    "        \"parameterCategory\": 3,\n",
    "        \"parameterNumber\": 1,\n",
    "    },\n",
    "    level_type=\"meanSea\",\n",
    ")\n",
    "assert field.attrs[\"GRIB_count\"] == 45"
   ]
  },
  {
   "cell_type": "code",
   "execution_count": null,
   "id": "112",
   "metadata": {},
   "outputs": [],
   "source": []
  }
 ],
 "metadata": {
  "kernelspec": {
   "display_name": "py312-cedar-dev",
   "language": "python",
   "name": "python3"
  },
  "language_info": {
   "codemirror_mode": {
    "name": "ipython",
    "version": 3
   },
   "file_extension": ".py",
   "mimetype": "text/x-python",
   "name": "python",
   "nbconvert_exporter": "python",
   "pygments_lexer": "ipython3",
   "version": "3.12.11"
  }
 },
 "nbformat": 4,
 "nbformat_minor": 5
}
