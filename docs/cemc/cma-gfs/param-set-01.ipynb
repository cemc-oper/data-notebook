{
 "cells": [
  {
   "cell_type": "markdown",
   "id": "0",
   "metadata": {},
   "source": [
    "# 要素清单：1-5"
   ]
  },
  {
   "cell_type": "code",
   "execution_count": null,
   "id": "1",
   "metadata": {},
   "outputs": [],
   "source": [
    "import numpy as np\n",
    "import pandas as pd\n",
    "import xarray as xr\n",
    "\n",
    "from reki.data_finder import find_local_file\n",
    "from reki.format.grib.eccodes import load_field_from_file"
   ]
  },
  {
   "cell_type": "code",
   "execution_count": null,
   "id": "2",
   "metadata": {},
   "outputs": [],
   "source": [
    "start_time = pd.Timestamp.utcnow().floor(freq=\"D\") - pd.Timedelta(days=2)\n",
    "start_time_label = start_time.strftime(\"%Y%m%d%H\")\n",
    "forecast_time_label = \"24h\"\n",
    "forecast_time = pd.to_timedelta(forecast_time_label)\n",
    "\n",
    "gfs_grib2_orig_file_path = find_local_file(\n",
    "    \"cma_gfs_gmf/grib2/orig\",\n",
    "    start_time=start_time,\n",
    "    forecast_time=forecast_time,\n",
    ")\n",
    "gfs_grib2_orig_file_path"
   ]
  },
  {
   "cell_type": "markdown",
   "id": "3",
   "metadata": {},
   "source": [
    "## ACPCP/NCPCP/APCP/ASNOW"
   ]
  },
  {
   "cell_type": "markdown",
   "id": "4",
   "metadata": {},
   "source": [
    "### 对流降水\n",
    "\n",
    "| 要素名 | wgrib2 | eccodes | cemc | GRIB key | 层次类型 | 层次 | 编号 |\n",
    "|--------|---------|--------|------|----------|---------|------|-----|\n",
    "| 对流降水 | ACPCP | acpcp | rainc | (0, 1, 10) | - | - | 1 |"
   ]
  },
  {
   "cell_type": "code",
   "execution_count": null,
   "id": "5",
   "metadata": {},
   "outputs": [],
   "source": [
    "field = load_field_from_file(\n",
    "    gfs_grib2_orig_file_path,\n",
    "    parameter=\"ACPCP\"\n",
    ")\n",
    "assert field.attrs[\"GRIB_count\"] == 1"
   ]
  },
  {
   "cell_type": "code",
   "execution_count": null,
   "id": "6",
   "metadata": {},
   "outputs": [],
   "source": [
    "field = load_field_from_file(\n",
    "    gfs_grib2_orig_file_path,\n",
    "    parameter=\"acpcp\",\n",
    ")\n",
    "assert field.attrs[\"GRIB_count\"] == 1"
   ]
  },
  {
   "cell_type": "code",
   "execution_count": null,
   "id": "7",
   "metadata": {},
   "outputs": [],
   "source": [
    "field = load_field_from_file(\n",
    "    gfs_grib2_orig_file_path,\n",
    "    parameter=\"rainc\",\n",
    ")\n",
    "assert field.attrs[\"GRIB_count\"] == 1"
   ]
  },
  {
   "cell_type": "code",
   "execution_count": null,
   "id": "8",
   "metadata": {},
   "outputs": [],
   "source": [
    "field = load_field_from_file(\n",
    "    gfs_grib2_orig_file_path,\n",
    "    parameter={\n",
    "        \"discipline\": 0,\n",
    "        \"parameterCategory\": 1,\n",
    "        \"parameterNumber\": 10,\n",
    "    },\n",
    ")\n",
    "assert field.attrs[\"GRIB_count\"] == 1"
   ]
  },
  {
   "cell_type": "markdown",
   "id": "9",
   "metadata": {},
   "source": [
    "### 大尺度降水\n",
    "\n",
    "| 要素名 | wgrib2 | eccodes | cemc | GRIB Key | 层次类型 | 层次 | 编号 |\n",
    "|--------|---------|--------|------|---------|---------|-------|------|\n",
    "| 大尺度降水 | NCPCP | ncpcp | rainnc | (0, 1, 9) | - | - | 2 |"
   ]
  },
  {
   "cell_type": "code",
   "execution_count": null,
   "id": "10",
   "metadata": {},
   "outputs": [],
   "source": [
    "field = load_field_from_file(\n",
    "    gfs_grib2_orig_file_path,\n",
    "    parameter=\"NCPCP\"\n",
    ")\n",
    "assert field.attrs[\"GRIB_count\"] == 2"
   ]
  },
  {
   "cell_type": "code",
   "execution_count": null,
   "id": "11",
   "metadata": {},
   "outputs": [],
   "source": [
    "field = load_field_from_file(\n",
    "    gfs_grib2_orig_file_path,\n",
    "    parameter=\"ncpcp\"\n",
    ")\n",
    "assert field.attrs[\"GRIB_count\"] == 2"
   ]
  },
  {
   "cell_type": "code",
   "execution_count": null,
   "id": "12",
   "metadata": {},
   "outputs": [],
   "source": [
    "field = load_field_from_file(\n",
    "    gfs_grib2_orig_file_path,\n",
    "    parameter=\"rainnc\"\n",
    ")\n",
    "assert field.attrs[\"GRIB_count\"] == 2"
   ]
  },
  {
   "cell_type": "code",
   "execution_count": null,
   "id": "13",
   "metadata": {},
   "outputs": [],
   "source": [
    "field = load_field_from_file(\n",
    "    gfs_grib2_orig_file_path,\n",
    "    parameter={\n",
    "        \"discipline\": 0,\n",
    "        \"parameterCategory\": 1,\n",
    "        \"parameterNumber\": 9,\n",
    "    },\n",
    ")\n",
    "assert field.attrs[\"GRIB_count\"] == 2"
   ]
  },
  {
   "cell_type": "markdown",
   "id": "14",
   "metadata": {},
   "source": [
    "### 总降水\n",
    "\n",
    "| 要素名 | wgrib2 | eccodes | cemc | GRIB Key | 层次类型 | 层次 | 编号 |\n",
    "|--------|---------|--------|------|----------|--------|------|------|\n",
    "| 总降水 | APCP | - | rain | (0, 1, 8) | - | - | 3 |"
   ]
  },
  {
   "cell_type": "code",
   "execution_count": null,
   "id": "15",
   "metadata": {},
   "outputs": [],
   "source": [
    "field = load_field_from_file(\n",
    "    gfs_grib2_orig_file_path,\n",
    "    parameter=\"APCP\"\n",
    ")\n",
    "assert field.attrs[\"GRIB_count\"] == 3"
   ]
  },
  {
   "cell_type": "code",
   "execution_count": null,
   "id": "16",
   "metadata": {},
   "outputs": [],
   "source": [
    "field = load_field_from_file(\n",
    "    gfs_grib2_orig_file_path,\n",
    "    parameter=\"rain\"\n",
    ")\n",
    "assert field.attrs[\"GRIB_count\"] == 3"
   ]
  },
  {
   "cell_type": "code",
   "execution_count": null,
   "id": "17",
   "metadata": {},
   "outputs": [],
   "source": [
    "field = load_field_from_file(\n",
    "    gfs_grib2_orig_file_path,\n",
    "    parameter={\n",
    "        \"discipline\": 0,\n",
    "        \"parameterCategory\": 1,\n",
    "        \"parameterNumber\": 8,\n",
    "    },\n",
    ")\n",
    "assert field.attrs[\"GRIB_count\"] == 3"
   ]
  },
  {
   "cell_type": "markdown",
   "id": "18",
   "metadata": {},
   "source": [
    "### 降雪量\n",
    "\n",
    "| 要素名 | wgrib2 | eccodes | cemc | GRIB Key | 层次类型 | 层次 | 编号 |\n",
    "|--------|---------|--------|------|----------|---------|-------|------|\n",
    "| 降雪量 | ASNOW | - | snow | (0, 1, 29) | - | - | 4 |"
   ]
  },
  {
   "cell_type": "code",
   "execution_count": null,
   "id": "19",
   "metadata": {},
   "outputs": [],
   "source": [
    "field = load_field_from_file(\n",
    "    gfs_grib2_orig_file_path,\n",
    "    parameter=\"ASNOW\"\n",
    ")\n",
    "assert field.attrs[\"GRIB_count\"] == 4"
   ]
  },
  {
   "cell_type": "code",
   "execution_count": null,
   "id": "20",
   "metadata": {},
   "outputs": [],
   "source": [
    "field = load_field_from_file(\n",
    "    gfs_grib2_orig_file_path,\n",
    "    parameter={\n",
    "        \"discipline\": 0,\n",
    "        \"parameterCategory\": 1,\n",
    "        \"parameterNumber\": 29,\n",
    "    }\n",
    ")\n",
    "assert field.attrs[\"GRIB_count\"] == 4"
   ]
  },
  {
   "cell_type": "markdown",
   "id": "21",
   "metadata": {},
   "source": [
    "## TMP"
   ]
  },
  {
   "cell_type": "markdown",
   "id": "22",
   "metadata": {},
   "source": [
    "### 地表温度\n",
    "\n",
    "| 要素名 | wgrib2 | eccodes | cemc | GRIB Key | 层次类型 | 层次 | 编号 |\n",
    "|--------|---------|--------|------|----------|--------|------|------|\n",
    "| 地表温度 | TMP | t | ts  | (0, 0, 0) | surface | - | 5 |"
   ]
  },
  {
   "cell_type": "code",
   "execution_count": null,
   "id": "23",
   "metadata": {},
   "outputs": [],
   "source": [
    "field = load_field_from_file(\n",
    "    gfs_grib2_orig_file_path,\n",
    "    parameter=\"TMP\",\n",
    "    level_type=\"sfc\"\n",
    ")\n",
    "assert field.attrs[\"GRIB_count\"] == 5"
   ]
  },
  {
   "cell_type": "code",
   "execution_count": null,
   "id": "24",
   "metadata": {},
   "outputs": [],
   "source": [
    "field = load_field_from_file(\n",
    "    gfs_grib2_orig_file_path,\n",
    "    parameter=\"t\",\n",
    "    level_type=\"surface\"\n",
    ")\n",
    "assert field.attrs[\"GRIB_count\"] == 5"
   ]
  },
  {
   "cell_type": "code",
   "execution_count": null,
   "id": "25",
   "metadata": {},
   "outputs": [],
   "source": [
    "field = load_field_from_file(\n",
    "    gfs_grib2_orig_file_path,\n",
    "    parameter=\"ts\",\n",
    ")\n",
    "assert field.attrs[\"GRIB_count\"] == 5"
   ]
  },
  {
   "cell_type": "code",
   "execution_count": null,
   "id": "26",
   "metadata": {},
   "outputs": [],
   "source": [
    "field = load_field_from_file(\n",
    "    gfs_grib2_orig_file_path,\n",
    "    parameter={\n",
    "        \"discipline\": 0,\n",
    "        \"parameterCategory\": 0,\n",
    "        \"parameterNumber\": 0,\n",
    "    },\n",
    "    level_type=\"sfc\"\n",
    ")\n",
    "assert field.attrs[\"GRIB_count\"] == 5"
   ]
  }
 ],
 "metadata": {
  "kernelspec": {
   "display_name": "py312-cedar-dev",
   "language": "python",
   "name": "python3"
  },
  "language_info": {
   "codemirror_mode": {
    "name": "ipython",
    "version": 3
   },
   "file_extension": ".py",
   "mimetype": "text/x-python",
   "name": "python",
   "nbconvert_exporter": "python",
   "pygments_lexer": "ipython3",
   "version": "3.12.11"
  }
 },
 "nbformat": 4,
 "nbformat_minor": 5
}
