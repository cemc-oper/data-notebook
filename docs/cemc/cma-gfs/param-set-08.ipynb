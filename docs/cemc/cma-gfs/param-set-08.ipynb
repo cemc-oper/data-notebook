{
 "cells": [
  {
   "cell_type": "markdown",
   "id": "0",
   "metadata": {},
   "source": [
    "# GFS要素清单：472-773"
   ]
  },
  {
   "cell_type": "code",
   "execution_count": null,
   "id": "1",
   "metadata": {},
   "outputs": [],
   "source": [
    "import numpy as np\n",
    "import pandas as pd\n",
    "import xarray as xr\n",
    "\n",
    "from reki.data_finder import find_local_file\n",
    "from reki.format.grib.eccodes import load_field_from_file"
   ]
  },
  {
   "cell_type": "code",
   "execution_count": null,
   "id": "2",
   "metadata": {},
   "outputs": [],
   "source": [
    "start_time = pd.Timestamp.utcnow().floor(freq=\"D\") - pd.Timedelta(days=2)\n",
    "start_time_label = start_time.strftime(\"%Y%m%d%H\")\n",
    "forecast_time_label = \"24h\"\n",
    "forecast_time = pd.to_timedelta(forecast_time_label)\n",
    "\n",
    "gfs_grib2_orig_file_path = find_local_file(\n",
    "    \"cma_gfs_gmf/grib2/orig\",\n",
    "    start_time=start_time,\n",
    "    forecast_time=forecast_time,\n",
    ")\n",
    "gfs_grib2_orig_file_path"
   ]
  },
  {
   "cell_type": "markdown",
   "id": "3",
   "metadata": {},
   "source": [
    "## 层次\n",
    "\n",
    "30 层列表，单位百帕 (mb)：\n",
    "\n",
    "- 1000\n",
    "- 975\n",
    "- 950\n",
    "- 925\n",
    "- 900\n",
    "- 850\n",
    "- 800\n",
    "- 750\n",
    "- 700\n",
    "- 650\n",
    "- 600\n",
    "- 550\n",
    "- 500\n",
    "- 450\n",
    "- 400\n",
    "- 350\n",
    "- 300\n",
    "- 275\n",
    "- 250\n",
    "- 225\n",
    "- 200\n",
    "- 175\n",
    "- 150\n",
    "- 125\n",
    "- 100\n",
    "- 70\n",
    "- 50\n",
    "- 30\n",
    "- 20\n",
    "- 10"
   ]
  },
  {
   "cell_type": "markdown",
   "id": "4",
   "metadata": {},
   "source": [
    "## 相对湿度\n",
    "\n",
    "| 要素名 | wgrib2 | eccodes | cemc | GRIB Key | 层次类型 | 层次 | 编号 |\n",
    "|--------|---------|--------|------|----------|--------|------|-----|\n",
    "| 相对湿度 | RH | r | rh | (0, 1, 1) | pl | 30层 | 472-501 |"
   ]
  },
  {
   "cell_type": "code",
   "execution_count": null,
   "id": "5",
   "metadata": {},
   "outputs": [],
   "source": [
    "field = load_field_from_file(\n",
    "    gfs_grib2_orig_file_path,\n",
    "    parameter=\"RH\",\n",
    "    level_type=\"pl\",\n",
    "    level=1000,\n",
    ")\n",
    "assert field.attrs[\"GRIB_count\"] == 472"
   ]
  },
  {
   "cell_type": "code",
   "execution_count": null,
   "id": "6",
   "metadata": {},
   "outputs": [],
   "source": [
    "field = load_field_from_file(\n",
    "    gfs_grib2_orig_file_path,\n",
    "    parameter=\"r\",\n",
    "    level_type=\"pl\",\n",
    "    level=850,\n",
    ")\n",
    "assert field.attrs[\"GRIB_count\"] == 477"
   ]
  },
  {
   "cell_type": "code",
   "execution_count": null,
   "id": "7",
   "metadata": {},
   "outputs": [],
   "source": [
    "field = load_field_from_file(\n",
    "    gfs_grib2_orig_file_path,\n",
    "    parameter=\"rh\",\n",
    "    level_type=\"pl\",\n",
    "    level=70,\n",
    ")\n",
    "assert field.attrs[\"GRIB_count\"] == 497"
   ]
  },
  {
   "cell_type": "code",
   "execution_count": null,
   "id": "8",
   "metadata": {},
   "outputs": [],
   "source": [
    "field = load_field_from_file(\n",
    "    gfs_grib2_orig_file_path,\n",
    "    parameter={\n",
    "        \"discipline\": 0,\n",
    "        \"parameterCategory\": 1,\n",
    "        \"parameterNumber\": 1,\n",
    "    },\n",
    "    level_type=\"pl\",\n",
    "    level=10,\n",
    ")\n",
    "assert field.attrs[\"GRIB_count\"] == 501"
   ]
  },
  {
   "cell_type": "markdown",
   "id": "9",
   "metadata": {},
   "source": [
    "## RH/DPT"
   ]
  },
  {
   "cell_type": "markdown",
   "id": "10",
   "metadata": {},
   "source": [
    "### 2米相对湿度\n",
    "\n",
    "| 要素名 | wgrib2 | eccodes | cemc | GRIB Key | 层次类型 | 层次 | 编号 |\n",
    "|--------|---------|--------|------|----------|--------|------|----|\n",
    "| 2米相对湿度 | RH | 2r | rh2m | (0, 1, 1) | heightAboveGround | 2 | 502 |"
   ]
  },
  {
   "cell_type": "code",
   "execution_count": null,
   "id": "11",
   "metadata": {},
   "outputs": [],
   "source": [
    "field = load_field_from_file(\n",
    "    gfs_grib2_orig_file_path,\n",
    "    parameter=\"RH\",\n",
    "    level_type=\"heightAboveGround\",\n",
    "    level=2,\n",
    ")\n",
    "assert field.attrs[\"GRIB_count\"] == 502"
   ]
  },
  {
   "cell_type": "code",
   "execution_count": null,
   "id": "12",
   "metadata": {},
   "outputs": [],
   "source": [
    "field = load_field_from_file(\n",
    "    gfs_grib2_orig_file_path,\n",
    "    parameter=\"2r\",\n",
    ")\n",
    "assert field.attrs[\"GRIB_count\"] == 502"
   ]
  },
  {
   "cell_type": "code",
   "execution_count": null,
   "id": "13",
   "metadata": {},
   "outputs": [],
   "source": [
    "field = load_field_from_file(\n",
    "    gfs_grib2_orig_file_path,\n",
    "    parameter=\"rh2m\",\n",
    ")\n",
    "assert field.attrs[\"GRIB_count\"] == 502"
   ]
  },
  {
   "cell_type": "code",
   "execution_count": null,
   "id": "14",
   "metadata": {},
   "outputs": [],
   "source": [
    "field = load_field_from_file(\n",
    "    gfs_grib2_orig_file_path,\n",
    "    parameter={\n",
    "        \"discipline\": 0,\n",
    "        \"parameterCategory\": 1,\n",
    "        \"parameterNumber\": 1,\n",
    "    },\n",
    "    level_type=\"heightAboveGround\",\n",
    "    level=2,\n",
    ")\n",
    "assert field.attrs[\"GRIB_count\"] == 502"
   ]
  },
  {
   "cell_type": "markdown",
   "id": "15",
   "metadata": {},
   "source": [
    "### 2米露点温度\n",
    "\n",
    "| 要素名 | wgrib2 | eccodes | cemc | GRIB Key | 层次类型 | 层次 | 编号 |\n",
    "|--------|---------|--------|------|----------|--------|------|------|\n",
    "| 2米露点温度 | DPT | 2d | td2m | (0, 0, 6) | heightAboveGround | 2 | 503 |"
   ]
  },
  {
   "cell_type": "code",
   "execution_count": null,
   "id": "16",
   "metadata": {},
   "outputs": [],
   "source": [
    "field = load_field_from_file(\n",
    "    gfs_grib2_orig_file_path,\n",
    "    parameter=\"DPT\",\n",
    "    level_type=\"heightAboveGround\",\n",
    "    level=2,\n",
    ")\n",
    "assert field.attrs[\"GRIB_count\"] == 503"
   ]
  },
  {
   "cell_type": "code",
   "execution_count": null,
   "id": "17",
   "metadata": {},
   "outputs": [],
   "source": [
    "field = load_field_from_file(\n",
    "    gfs_grib2_orig_file_path,\n",
    "    parameter=\"2d\",\n",
    ")\n",
    "assert field.attrs[\"GRIB_count\"] == 503"
   ]
  },
  {
   "cell_type": "code",
   "execution_count": null,
   "id": "18",
   "metadata": {},
   "outputs": [],
   "source": [
    "field = load_field_from_file(\n",
    "    gfs_grib2_orig_file_path,\n",
    "    parameter=\"td2m\",\n",
    ")\n",
    "assert field.attrs[\"GRIB_count\"] == 503"
   ]
  },
  {
   "cell_type": "code",
   "execution_count": null,
   "id": "19",
   "metadata": {},
   "outputs": [],
   "source": [
    "field = load_field_from_file(\n",
    "    gfs_grib2_orig_file_path,\n",
    "    parameter={\n",
    "        \"discipline\": 0,\n",
    "        \"parameterCategory\": 0,\n",
    "        \"parameterNumber\": 6,\n",
    "    },\n",
    "    level_type=\"heightAboveGround\",\n",
    "    level=2,\n",
    ")\n",
    "assert field.attrs[\"GRIB_count\"] == 503"
   ]
  },
  {
   "cell_type": "markdown",
   "id": "20",
   "metadata": {},
   "source": [
    "## RELD/RELV/tadv/voradv/qflx/qdiv/DPT/DEPR/EPOT"
   ]
  },
  {
   "cell_type": "markdown",
   "id": "21",
   "metadata": {},
   "source": [
    "### 散度\n",
    "\n",
    "| 要素名 | wgrib2 | eccodes | cemc | GRIB Key | 层次类型 | 层次 | 编号 |\n",
    "|--------|---------|--------|------|----------|--------|------|----|\n",
    "| 散度 | RELD | d | div | (0, 2, 13) | pl | 30层 | 504-533 |"
   ]
  },
  {
   "cell_type": "code",
   "execution_count": null,
   "id": "22",
   "metadata": {},
   "outputs": [],
   "source": [
    "field = load_field_from_file(\n",
    "    gfs_grib2_orig_file_path,\n",
    "    parameter=\"RELD\",\n",
    "    level_type=\"pl\",\n",
    "    level=1000,\n",
    ")\n",
    "assert field.attrs[\"GRIB_count\"] == 504"
   ]
  },
  {
   "cell_type": "code",
   "execution_count": null,
   "id": "23",
   "metadata": {},
   "outputs": [],
   "source": [
    "field = load_field_from_file(\n",
    "    gfs_grib2_orig_file_path,\n",
    "    parameter=\"d\",\n",
    "    level_type=\"pl\",\n",
    "    level=850,\n",
    ")\n",
    "assert field.attrs[\"GRIB_count\"] == 509"
   ]
  },
  {
   "cell_type": "code",
   "execution_count": null,
   "id": "24",
   "metadata": {},
   "outputs": [],
   "source": [
    "field = load_field_from_file(\n",
    "    gfs_grib2_orig_file_path,\n",
    "    parameter=\"div\",\n",
    "    level_type=\"pl\",\n",
    "    level=70,\n",
    ")\n",
    "assert field.attrs[\"GRIB_count\"] == 529"
   ]
  },
  {
   "cell_type": "code",
   "execution_count": null,
   "id": "25",
   "metadata": {},
   "outputs": [],
   "source": [
    "field = load_field_from_file(\n",
    "    gfs_grib2_orig_file_path,\n",
    "    parameter={\n",
    "        \"discipline\": 0,\n",
    "        \"parameterCategory\": 2,\n",
    "        \"parameterNumber\": 13,\n",
    "    },\n",
    "    level_type=\"pl\",\n",
    "    level=10,\n",
    ")\n",
    "assert field.attrs[\"GRIB_count\"] == 533"
   ]
  },
  {
   "cell_type": "markdown",
   "id": "26",
   "metadata": {},
   "source": [
    "### 涡度\n",
    "\n",
    "| 要素名 | wgrib2 | eccodes | cemc | GRIB Key | 层次类型 | 层次 | 编号 |\n",
    "|--------|---------|--------|------|----------|--------|------|------|\n",
    "| 涡度 | RELV | vo | vor | (0, 2, 12) | pl | 30层 | 534-563 |"
   ]
  },
  {
   "cell_type": "code",
   "execution_count": null,
   "id": "27",
   "metadata": {},
   "outputs": [],
   "source": [
    "field = load_field_from_file(\n",
    "    gfs_grib2_orig_file_path,\n",
    "    parameter=\"RELV\",\n",
    "    level_type=\"pl\",\n",
    "    level=1000,\n",
    ")\n",
    "assert field.attrs[\"GRIB_count\"] == 534"
   ]
  },
  {
   "cell_type": "code",
   "execution_count": null,
   "id": "28",
   "metadata": {},
   "outputs": [],
   "source": [
    "field = load_field_from_file(\n",
    "    gfs_grib2_orig_file_path,\n",
    "    parameter=\"vo\",\n",
    "    level_type=\"pl\",\n",
    "    level=850,\n",
    ")\n",
    "assert field.attrs[\"GRIB_count\"] == 539"
   ]
  },
  {
   "cell_type": "code",
   "execution_count": null,
   "id": "29",
   "metadata": {},
   "outputs": [],
   "source": [
    "field = load_field_from_file(\n",
    "    gfs_grib2_orig_file_path,\n",
    "    parameter=\"vor\",\n",
    "    level_type=\"pl\",\n",
    "    level=70,\n",
    ")\n",
    "assert field.attrs[\"GRIB_count\"] == 559"
   ]
  },
  {
   "cell_type": "code",
   "execution_count": null,
   "id": "30",
   "metadata": {},
   "outputs": [],
   "source": [
    "field = load_field_from_file(\n",
    "    gfs_grib2_orig_file_path,\n",
    "    parameter={\n",
    "        \"discipline\": 0,\n",
    "        \"parameterCategory\": 2,\n",
    "        \"parameterNumber\": 12,\n",
    "    },\n",
    "    level_type=\"pl\",\n",
    "    level=10,\n",
    ")\n",
    "assert field.attrs[\"GRIB_count\"] == 563"
   ]
  },
  {
   "cell_type": "markdown",
   "id": "31",
   "metadata": {},
   "source": [
    "### 温度平流\n",
    "\n",
    "| 要素名 | wgrib2 | eccodes | cemc | GRIB Key | 层次类型 | 层次 | 编号 |\n",
    "|--------|---------|--------|------|----------|--------|------|------|\n",
    "| 温度平流 | - | - | tadv | (0, 0, 224) | pl | 30层 | 564-593 |"
   ]
  },
  {
   "cell_type": "code",
   "execution_count": null,
   "id": "32",
   "metadata": {},
   "outputs": [],
   "source": [
    "field = load_field_from_file(\n",
    "    gfs_grib2_orig_file_path,\n",
    "    parameter=\"tadv\",\n",
    "    level_type=\"pl\",\n",
    "    level=1000,\n",
    ")\n",
    "assert field.attrs[\"GRIB_count\"] == 564"
   ]
  },
  {
   "cell_type": "code",
   "execution_count": null,
   "id": "33",
   "metadata": {},
   "outputs": [],
   "source": [
    "field = load_field_from_file(\n",
    "    gfs_grib2_orig_file_path,\n",
    "    parameter=\"tadv\",\n",
    "    level_type=\"pl\",\n",
    "    level=850,\n",
    ")\n",
    "assert field.attrs[\"GRIB_count\"] == 569"
   ]
  },
  {
   "cell_type": "code",
   "execution_count": null,
   "id": "34",
   "metadata": {},
   "outputs": [],
   "source": [
    "field = load_field_from_file(\n",
    "    gfs_grib2_orig_file_path,\n",
    "    parameter=\"tadv\",\n",
    "    level_type=\"pl\",\n",
    "    level=70,\n",
    ")\n",
    "assert field.attrs[\"GRIB_count\"] == 589"
   ]
  },
  {
   "cell_type": "code",
   "execution_count": null,
   "id": "35",
   "metadata": {},
   "outputs": [],
   "source": [
    "field = load_field_from_file(\n",
    "    gfs_grib2_orig_file_path,\n",
    "    parameter={\n",
    "        \"discipline\": 0,\n",
    "        \"parameterCategory\": 0,\n",
    "        \"parameterNumber\": 224,\n",
    "    },\n",
    "    level_type=\"pl\",\n",
    "    level=10,\n",
    ")\n",
    "assert field.attrs[\"GRIB_count\"] == 593"
   ]
  },
  {
   "cell_type": "markdown",
   "id": "36",
   "metadata": {},
   "source": [
    "### 涡度平流\n",
    "\n",
    "| 要素名 | wgrib2 | eccodes | cemc | GRIB Key | 层次类型 | 层次 | 编号 |\n",
    "|--------|---------|--------|------|----------|--------|------|------|\n",
    "| 涡度平流 | - | - | voradv | (0, 2, 224) | pl | 30层 | 594-623 |"
   ]
  },
  {
   "cell_type": "code",
   "execution_count": null,
   "id": "37",
   "metadata": {},
   "outputs": [],
   "source": [
    "field = load_field_from_file(\n",
    "    gfs_grib2_orig_file_path,\n",
    "    parameter=\"voradv\",\n",
    "    level_type=\"pl\",\n",
    "    level=1000,\n",
    ")\n",
    "assert field.attrs[\"GRIB_count\"] == 594"
   ]
  },
  {
   "cell_type": "code",
   "execution_count": null,
   "id": "38",
   "metadata": {},
   "outputs": [],
   "source": [
    "field = load_field_from_file(\n",
    "    gfs_grib2_orig_file_path,\n",
    "    parameter=\"voradv\",\n",
    "    level_type=\"pl\",\n",
    "    level=850,\n",
    ")\n",
    "assert field.attrs[\"GRIB_count\"] == 599"
   ]
  },
  {
   "cell_type": "code",
   "execution_count": null,
   "id": "39",
   "metadata": {},
   "outputs": [],
   "source": [
    "field = load_field_from_file(\n",
    "    gfs_grib2_orig_file_path,\n",
    "    parameter=\"voradv\",\n",
    "    level_type=\"pl\",\n",
    "    level=70,\n",
    ")\n",
    "assert field.attrs[\"GRIB_count\"] == 619"
   ]
  },
  {
   "cell_type": "code",
   "execution_count": null,
   "id": "40",
   "metadata": {},
   "outputs": [],
   "source": [
    "field = load_field_from_file(\n",
    "    gfs_grib2_orig_file_path,\n",
    "    parameter={\n",
    "        \"discipline\": 0,\n",
    "        \"parameterCategory\": 2,\n",
    "        \"parameterNumber\": 224,\n",
    "    },\n",
    "    level_type=\"pl\",\n",
    "    level=10,\n",
    ")\n",
    "assert field.attrs[\"GRIB_count\"] == 623"
   ]
  },
  {
   "cell_type": "markdown",
   "id": "41",
   "metadata": {},
   "source": [
    "### 水汽通量\n",
    "\n",
    "| 要素名 | wgrib2 | eccodes | cemc | GRIB Key | 层次类型 | 层次 | 编号 |\n",
    "|--------|---------|--------|------|----------|--------|------|-------|\n",
    "| 水汽通量 | - | - | qflx | (0, 1, 224) | pl | 30层 | 624-653 |"
   ]
  },
  {
   "cell_type": "code",
   "execution_count": null,
   "id": "42",
   "metadata": {},
   "outputs": [],
   "source": [
    "field = load_field_from_file(\n",
    "    gfs_grib2_orig_file_path,\n",
    "    parameter=\"qflx\",\n",
    "    level_type=\"pl\",\n",
    "    level=1000,\n",
    ")\n",
    "assert field.attrs[\"GRIB_count\"] == 624"
   ]
  },
  {
   "cell_type": "code",
   "execution_count": null,
   "id": "43",
   "metadata": {},
   "outputs": [],
   "source": [
    "field = load_field_from_file(\n",
    "    gfs_grib2_orig_file_path,\n",
    "    parameter=\"qflx\",\n",
    "    level_type=\"pl\",\n",
    "    level=850,\n",
    ")\n",
    "assert field.attrs[\"GRIB_count\"] == 629"
   ]
  },
  {
   "cell_type": "code",
   "execution_count": null,
   "id": "44",
   "metadata": {},
   "outputs": [],
   "source": [
    "field = load_field_from_file(\n",
    "    gfs_grib2_orig_file_path,\n",
    "    parameter=\"qflx\",\n",
    "    level_type=\"pl\",\n",
    "    level=70,\n",
    ")\n",
    "assert field.attrs[\"GRIB_count\"] == 649"
   ]
  },
  {
   "cell_type": "code",
   "execution_count": null,
   "id": "45",
   "metadata": {},
   "outputs": [],
   "source": [
    "field = load_field_from_file(\n",
    "    gfs_grib2_orig_file_path,\n",
    "    parameter={\n",
    "        \"discipline\": 0,\n",
    "        \"parameterCategory\": 1,\n",
    "        \"parameterNumber\": 224,\n",
    "    },\n",
    "    level_type=\"pl\",\n",
    "    level=10,\n",
    ")\n",
    "assert field.attrs[\"GRIB_count\"] == 653"
   ]
  },
  {
   "cell_type": "markdown",
   "id": "46",
   "metadata": {},
   "source": [
    "### 水汽通量散度\n",
    "\n",
    "| 要素名 | wgrib2 | eccodes | cemc | GRIB Key | 层次类型 | 层次 | 编号 |\n",
    "|--------|---------|--------|------|----------|--------|------|-------|\n",
    "| 水汽通量散度 | - | - | qdiv | (0, 1, 225) | pl | 30层 | 654-683 |"
   ]
  },
  {
   "cell_type": "code",
   "execution_count": null,
   "id": "47",
   "metadata": {},
   "outputs": [],
   "source": [
    "field = load_field_from_file(\n",
    "    gfs_grib2_orig_file_path,\n",
    "    parameter=\"qdiv\",\n",
    "    level_type=\"pl\",\n",
    "    level=1000,\n",
    ")\n",
    "assert field.attrs[\"GRIB_count\"] == 654"
   ]
  },
  {
   "cell_type": "code",
   "execution_count": null,
   "id": "48",
   "metadata": {},
   "outputs": [],
   "source": [
    "field = load_field_from_file(\n",
    "    gfs_grib2_orig_file_path,\n",
    "    parameter=\"qdiv\",\n",
    "    level_type=\"pl\",\n",
    "    level=850,\n",
    ")\n",
    "assert field.attrs[\"GRIB_count\"] == 659"
   ]
  },
  {
   "cell_type": "code",
   "execution_count": null,
   "id": "49",
   "metadata": {},
   "outputs": [],
   "source": [
    "field = load_field_from_file(\n",
    "    gfs_grib2_orig_file_path,\n",
    "    parameter=\"qdiv\",\n",
    "    level_type=\"pl\",\n",
    "    level=70,\n",
    ")\n",
    "assert field.attrs[\"GRIB_count\"] == 679"
   ]
  },
  {
   "cell_type": "code",
   "execution_count": null,
   "id": "50",
   "metadata": {},
   "outputs": [],
   "source": [
    "field = load_field_from_file(\n",
    "    gfs_grib2_orig_file_path,\n",
    "    parameter={\n",
    "        \"discipline\": 0,\n",
    "        \"parameterCategory\": 1,\n",
    "        \"parameterNumber\": 225,\n",
    "    },\n",
    "    level_type=\"pl\",\n",
    "    level=10,\n",
    ")\n",
    "assert field.attrs[\"GRIB_count\"] == 683"
   ]
  },
  {
   "cell_type": "markdown",
   "id": "51",
   "metadata": {},
   "source": [
    "### 露点温度\n",
    "\n",
    "| 要素名 | wgrib2 | eccodes | cemc | GRIB Key | 层次类型 | 层次 | 编号 |\n",
    "|--------|---------|--------|------|----------|--------|------|-------|\n",
    "| 露点温度 | DPT | dpt | td | (0, 0, 6) | pl | 30层 | 684-713 |"
   ]
  },
  {
   "cell_type": "code",
   "execution_count": null,
   "id": "52",
   "metadata": {},
   "outputs": [],
   "source": [
    "field = load_field_from_file(\n",
    "    gfs_grib2_orig_file_path,\n",
    "    parameter=\"DPT\",\n",
    "    level_type=\"pl\",\n",
    "    level=1000,\n",
    ")\n",
    "assert field.attrs[\"GRIB_count\"] == 684"
   ]
  },
  {
   "cell_type": "code",
   "execution_count": null,
   "id": "53",
   "metadata": {},
   "outputs": [],
   "source": [
    "field = load_field_from_file(\n",
    "    gfs_grib2_orig_file_path,\n",
    "    parameter=\"dpt\",\n",
    "    level_type=\"pl\",\n",
    "    level=850,\n",
    ")\n",
    "assert field.attrs[\"GRIB_count\"] == 689"
   ]
  },
  {
   "cell_type": "code",
   "execution_count": null,
   "id": "54",
   "metadata": {},
   "outputs": [],
   "source": [
    "field = load_field_from_file(\n",
    "    gfs_grib2_orig_file_path,\n",
    "    parameter=\"td\",\n",
    "    level_type=\"pl\",\n",
    "    level=70,\n",
    ")\n",
    "assert field.attrs[\"GRIB_count\"] == 709"
   ]
  },
  {
   "cell_type": "code",
   "execution_count": null,
   "id": "55",
   "metadata": {},
   "outputs": [],
   "source": [
    "field = load_field_from_file(\n",
    "    gfs_grib2_orig_file_path,\n",
    "    parameter={\n",
    "        \"discipline\": 0,\n",
    "        \"parameterCategory\": 0,\n",
    "        \"parameterNumber\": 6,\n",
    "    },\n",
    "    level_type=\"pl\",\n",
    "    level=10,\n",
    ")\n",
    "assert field.attrs[\"GRIB_count\"] == 713"
   ]
  },
  {
   "cell_type": "markdown",
   "id": "56",
   "metadata": {},
   "source": [
    "### 温度露点差\n",
    "\n",
    "| 要素名 | wgrib2 | eccodes | cemc | GRIB Key | 层次类型 | 层次 | 编号 |\n",
    "|--------|---------|--------|------|----------|--------|------|-------|\n",
    "| 温度露点差 | DEPR | - | ttd | (0, 0, 7) | pl | 30层 | 714-743 |"
   ]
  },
  {
   "cell_type": "code",
   "execution_count": null,
   "id": "57",
   "metadata": {},
   "outputs": [],
   "source": [
    "field = load_field_from_file(\n",
    "    gfs_grib2_orig_file_path,\n",
    "    parameter=\"DEPR\",\n",
    "    level_type=\"pl\",\n",
    "    level=1000,\n",
    ")\n",
    "assert field.attrs[\"GRIB_count\"] == 714"
   ]
  },
  {
   "cell_type": "code",
   "execution_count": null,
   "id": "58",
   "metadata": {},
   "outputs": [],
   "source": [
    "field = load_field_from_file(\n",
    "    gfs_grib2_orig_file_path,\n",
    "    parameter=\"DEPR\",\n",
    "    level_type=\"pl\",\n",
    "    level=850,\n",
    ")\n",
    "assert field.attrs[\"GRIB_count\"] == 719"
   ]
  },
  {
   "cell_type": "code",
   "execution_count": null,
   "id": "59",
   "metadata": {},
   "outputs": [],
   "source": [
    "field = load_field_from_file(\n",
    "    gfs_grib2_orig_file_path,\n",
    "    parameter=\"ttd\",\n",
    "    level_type=\"pl\",\n",
    "    level=70,\n",
    ")\n",
    "assert field.attrs[\"GRIB_count\"] == 739"
   ]
  },
  {
   "cell_type": "code",
   "execution_count": null,
   "id": "60",
   "metadata": {},
   "outputs": [],
   "source": [
    "field = load_field_from_file(\n",
    "    gfs_grib2_orig_file_path,\n",
    "    parameter={\n",
    "        \"discipline\": 0,\n",
    "        \"parameterCategory\": 0,\n",
    "        \"parameterNumber\": 7,\n",
    "    },\n",
    "    level_type=\"pl\",\n",
    "    level=10,\n",
    ")\n",
    "assert field.attrs[\"GRIB_count\"] == 743"
   ]
  },
  {
   "cell_type": "markdown",
   "id": "61",
   "metadata": {},
   "source": [
    "### 假相当位温\n",
    "\n",
    "| 要素名 | wgrib2 | eccodes | cemc | GRIB Key | 层次类型 | 层次 | 编号 |\n",
    "|--------|---------|--------|------|----------|--------|------|-------|\n",
    "| 假相当位温 | EPOT | papt | thetaSe | (0, 0, 3) | pl | 30层 | 744-773 |"
   ]
  },
  {
   "cell_type": "code",
   "execution_count": null,
   "id": "62",
   "metadata": {},
   "outputs": [],
   "source": [
    "field = load_field_from_file(\n",
    "    gfs_grib2_orig_file_path,\n",
    "    parameter=\"EPOT\",\n",
    "    level_type=\"pl\",\n",
    "    level=1000,\n",
    ")\n",
    "assert field.attrs[\"GRIB_count\"] == 744"
   ]
  },
  {
   "cell_type": "code",
   "execution_count": null,
   "id": "63",
   "metadata": {},
   "outputs": [],
   "source": [
    "field = load_field_from_file(\n",
    "    gfs_grib2_orig_file_path,\n",
    "    parameter=\"papt\",\n",
    "    level_type=\"pl\",\n",
    "    level=850,\n",
    ")\n",
    "assert field.attrs[\"GRIB_count\"] == 749"
   ]
  },
  {
   "cell_type": "code",
   "execution_count": null,
   "id": "64",
   "metadata": {},
   "outputs": [],
   "source": [
    "field = load_field_from_file(\n",
    "    gfs_grib2_orig_file_path,\n",
    "    parameter=\"thetaSe\",\n",
    "    level_type=\"pl\",\n",
    "    level=70,\n",
    ")\n",
    "assert field.attrs[\"GRIB_count\"] == 769"
   ]
  },
  {
   "cell_type": "code",
   "execution_count": null,
   "id": "65",
   "metadata": {},
   "outputs": [],
   "source": [
    "field = load_field_from_file(\n",
    "    gfs_grib2_orig_file_path,\n",
    "    parameter={\n",
    "        \"discipline\": 0,\n",
    "        \"parameterCategory\": 0,\n",
    "        \"parameterNumber\": 3,\n",
    "    },\n",
    "    level_type=\"pl\",\n",
    "    level=10,\n",
    ")\n",
    "assert field.attrs[\"GRIB_count\"] == 773"
   ]
  }
 ],
 "metadata": {
  "kernelspec": {
   "display_name": "py312-cedar-dev",
   "language": "python",
   "name": "python3"
  },
  "language_info": {
   "codemirror_mode": {
    "name": "ipython",
    "version": 3
   },
   "file_extension": ".py",
   "mimetype": "text/x-python",
   "name": "python",
   "nbconvert_exporter": "python",
   "pygments_lexer": "ipython3",
   "version": "3.12.11"
  }
 },
 "nbformat": 4,
 "nbformat_minor": 5
}
