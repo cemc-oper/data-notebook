{
 "cells": [
  {
   "cell_type": "markdown",
   "id": "0",
   "metadata": {},
   "source": [
    "# MESO要素清单：369-402"
   ]
  },
  {
   "cell_type": "code",
   "execution_count": null,
   "id": "1",
   "metadata": {},
   "outputs": [],
   "source": [
    "import numpy as np\n",
    "import pandas as pd\n",
    "import xarray as xr\n",
    "\n",
    "from reki.data_finder import find_local_file\n",
    "from reki.format.grib.eccodes import load_field_from_file"
   ]
  },
  {
   "cell_type": "code",
   "execution_count": null,
   "id": "2",
   "metadata": {},
   "outputs": [],
   "source": [
    "start_time = pd.Timestamp.utcnow().floor(freq=\"D\") - pd.Timedelta(days=2)\n",
    "start_time_label = start_time.strftime(\"%Y%m%d%H\")\n",
    "forecast_time_label = \"24h\"\n",
    "forecast_time = pd.to_timedelta(forecast_time_label)\n",
    "\n",
    "meso_grib2_orig_file_path = find_local_file(\n",
    "    \"cma_meso_1km/grib2/orig\",\n",
    "    start_time=start_time,\n",
    "    forecast_time=forecast_time,\n",
    ")\n",
    "meso_grib2_orig_file_path"
   ]
  },
  {
   "cell_type": "markdown",
   "id": "3",
   "metadata": {},
   "source": [
    "## 层次\n",
    "\n",
    "21 层，层次列表如下：\n",
    "\n",
    "- 1000\n",
    "- 975\n",
    "- 950\n",
    "- 925\n",
    "- 900\n",
    "- 850\n",
    "- 800\n",
    "- 750\n",
    "- 700\n",
    "- 650\n",
    "- 600\n",
    "- 550\n",
    "- 500\n",
    "- 450\n",
    "- 400\n",
    "- 350\n",
    "- 300\n",
    "- 250\n",
    "- 200\n",
    "- 150\n",
    "- 100\n",
    "\n",
    "5 层，层次列表如下：\n",
    "\n",
    "- 1000\n",
    "- 925\n",
    "- 850\n",
    "- 700\n",
    "- 500\n",
    "\n",
    "3 层，层次列表如下：\n",
    "\n",
    "- 850\n",
    "- 700\n",
    "- 500"
   ]
  },
  {
   "cell_type": "markdown",
   "id": "4",
   "metadata": {},
   "source": [
    "## 雷达反射率\n",
    "\n",
    "| 要素名 | wgrib2 | eccodes | cemc | GRIB Key | 层次类型 | 层次 | 编号 |\n",
    "|--------|---------|--------|------|----------|--------|------|-------|\n",
    "| 雷达反射率 | - | - | dbz | (0, 16, 225) | pl | 21层 | 369-389 |"
   ]
  },
  {
   "cell_type": "code",
   "execution_count": null,
   "id": "5",
   "metadata": {},
   "outputs": [],
   "source": [
    "field = load_field_from_file(\n",
    "    meso_grib2_orig_file_path,\n",
    "    parameter=\"dbz\",\n",
    "    level_type=\"pl\",\n",
    "    level=1000,\n",
    ")\n",
    "assert field.attrs[\"GRIB_count\"] == 369"
   ]
  },
  {
   "cell_type": "code",
   "execution_count": null,
   "id": "6",
   "metadata": {},
   "outputs": [],
   "source": [
    "field = load_field_from_file(\n",
    "    meso_grib2_orig_file_path,\n",
    "    parameter=\"dbz\",\n",
    "    level_type=\"pl\",\n",
    "    level=850,\n",
    ")\n",
    "assert field.attrs[\"GRIB_count\"] == 374"
   ]
  },
  {
   "cell_type": "code",
   "execution_count": null,
   "id": "7",
   "metadata": {},
   "outputs": [],
   "source": [
    "field = load_field_from_file(\n",
    "    meso_grib2_orig_file_path,\n",
    "    parameter=\"dbz\",\n",
    "    level_type=\"pl\",\n",
    "    level=200,\n",
    ")\n",
    "assert field.attrs[\"GRIB_count\"] == 387"
   ]
  },
  {
   "cell_type": "code",
   "execution_count": null,
   "id": "8",
   "metadata": {},
   "outputs": [],
   "source": [
    "field = load_field_from_file(\n",
    "    meso_grib2_orig_file_path,\n",
    "    parameter={\n",
    "        \"discipline\": 0,\n",
    "        \"parameterCategory\": 16,\n",
    "        \"parameterNumber\": 225,\n",
    "    },\n",
    "    level_type=\"pl\",\n",
    "    level=100,\n",
    ")\n",
    "assert field.attrs[\"GRIB_count\"] == 389"
   ]
  },
  {
   "cell_type": "markdown",
   "id": "9",
   "metadata": {},
   "source": [
    "## 风暴螺旋度\n",
    "\n",
    "| 要素名 | wgrib2 | eccodes | cemc | GRIB Key | 层次类型 | 层次 | 编号 |\n",
    "|--------|---------|--------|------|----------|--------|------|-------|\n",
    "| 0-1000m风暴螺旋度 | HLCY | hlcy | srh(0-1000) | (0, 7, 8) | heightAboveGroundLayer | 1000, 0 | 390 |\n",
    "| 0-3000m风暴螺旋度 | HLCY | hlcy | srh(0-3000) | (0, 7, 8) | heightAboveGroundLayer | 3000, 0 | 391 |"
   ]
  },
  {
   "cell_type": "code",
   "execution_count": null,
   "id": "10",
   "metadata": {},
   "outputs": [],
   "source": [
    "field = load_field_from_file(\n",
    "    meso_grib2_orig_file_path,\n",
    "    parameter=\"HLCY\",\n",
    "    level_type=\"heightAboveGroundLayer\",\n",
    "    level=1000,\n",
    ")\n",
    "assert field.attrs[\"GRIB_count\"] == 390"
   ]
  },
  {
   "cell_type": "code",
   "execution_count": null,
   "id": "11",
   "metadata": {},
   "outputs": [],
   "source": [
    "field = load_field_from_file(\n",
    "    meso_grib2_orig_file_path,\n",
    "    parameter=\"hlcy\",\n",
    "    level_type=\"heightAboveGroundLayer\",\n",
    "    level={\n",
    "        \"first_level\": 1000,\n",
    "        \"second_level\": 0,\n",
    "    },\n",
    ")\n",
    "assert field.attrs[\"GRIB_count\"] == 390"
   ]
  },
  {
   "cell_type": "code",
   "execution_count": null,
   "id": "12",
   "metadata": {},
   "outputs": [],
   "source": [
    "field = load_field_from_file(\n",
    "    meso_grib2_orig_file_path,\n",
    "    parameter=\"srh(0-3000)\",\n",
    ")\n",
    "assert field.attrs[\"GRIB_count\"] == 391"
   ]
  },
  {
   "cell_type": "code",
   "execution_count": null,
   "id": "13",
   "metadata": {},
   "outputs": [],
   "source": [
    "field = load_field_from_file(\n",
    "    meso_grib2_orig_file_path,\n",
    "    parameter={\n",
    "        \"discipline\": 0,\n",
    "        \"parameterCategory\": 7,\n",
    "        \"parameterNumber\": 8,\n",
    "    },\n",
    "    level_type=\"heightAboveGroundLayer\",\n",
    "    level={\n",
    "        \"first_level\": 3000,\n",
    "        \"second_level\": 0,\n",
    "    },\n",
    ")\n",
    "assert field.attrs[\"GRIB_count\"] == 391"
   ]
  },
  {
   "cell_type": "markdown",
   "id": "14",
   "metadata": {},
   "source": [
    "## 冰雹指数\n",
    "\n",
    "| 要素名 | wgrib2 | eccodes | cemc | GRIB Key | 层次类型 | 层次 | 编号 |\n",
    "|--------|---------|--------|------|----------|--------|------|-------|\n",
    "| 冰雹指数 | - | - | hi | (0, 1, 239) | surface | - | 392 |"
   ]
  },
  {
   "cell_type": "code",
   "execution_count": null,
   "id": "15",
   "metadata": {},
   "outputs": [],
   "source": [
    "field = load_field_from_file(\n",
    "    meso_grib2_orig_file_path,\n",
    "    parameter=\"hi\",\n",
    ")\n",
    "assert field.attrs[\"GRIB_count\"] == 392"
   ]
  },
  {
   "cell_type": "code",
   "execution_count": null,
   "id": "16",
   "metadata": {},
   "outputs": [],
   "source": [
    "field = load_field_from_file(\n",
    "    meso_grib2_orig_file_path,\n",
    "    parameter={\n",
    "        \"discipline\": 0,\n",
    "        \"parameterCategory\": 1,\n",
    "        \"parameterNumber\": 239,\n",
    "    },\n",
    "    level_type=\"surface\",\n",
    ")\n",
    "assert field.attrs[\"GRIB_count\"] == 392"
   ]
  },
  {
   "cell_type": "markdown",
   "id": "17",
   "metadata": {},
   "source": [
    "## 0度层高度\n",
    "\n",
    "| 要素名 | wgrib2 | eccodes | cemc | GRIB Key | 层次类型 | 层次 | 编号 |\n",
    "|--------|---------|--------|------|----------|--------|------|-------|\n",
    "| 0度层高度 | - | - | ht0 | (0, 3, 225) | surface | - | 393 |"
   ]
  },
  {
   "cell_type": "code",
   "execution_count": null,
   "id": "18",
   "metadata": {},
   "outputs": [],
   "source": [
    "field = load_field_from_file(\n",
    "    meso_grib2_orig_file_path,\n",
    "    parameter=\"ht0\",\n",
    ")\n",
    "assert field.attrs[\"GRIB_count\"] == 393"
   ]
  },
  {
   "cell_type": "code",
   "execution_count": null,
   "id": "19",
   "metadata": {},
   "outputs": [],
   "source": [
    "field = load_field_from_file(\n",
    "    meso_grib2_orig_file_path,\n",
    "    parameter={\n",
    "        \"discipline\": 0,\n",
    "        \"parameterCategory\": 3,\n",
    "        \"parameterNumber\": 225,\n",
    "    },\n",
    "    level_type=\"surface\",\n",
    ")\n",
    "assert field.attrs[\"GRIB_count\"] == 393"
   ]
  },
  {
   "cell_type": "markdown",
   "id": "20",
   "metadata": {},
   "source": [
    "## -20度层高度\n",
    "\n",
    "| 要素名 | wgrib2 | eccodes | cemc | GRIB Key | 层次类型 | 层次 | 编号 |\n",
    "|--------|---------|--------|------|----------|--------|------|-------|\n",
    "| -20度层高度 | - | - | ht2 | (0, 3, 226) | surface | - | 394 |"
   ]
  },
  {
   "cell_type": "code",
   "execution_count": null,
   "id": "21",
   "metadata": {},
   "outputs": [],
   "source": [
    "field = load_field_from_file(\n",
    "    meso_grib2_orig_file_path,\n",
    "    parameter=\"ht2\",\n",
    ")\n",
    "assert field.attrs[\"GRIB_count\"] == 394"
   ]
  },
  {
   "cell_type": "code",
   "execution_count": null,
   "id": "22",
   "metadata": {},
   "outputs": [],
   "source": [
    "field = load_field_from_file(\n",
    "    meso_grib2_orig_file_path,\n",
    "    parameter={\n",
    "        \"discipline\": 0,\n",
    "        \"parameterCategory\": 3,\n",
    "        \"parameterNumber\": 226,\n",
    "    },\n",
    "    level_type=\"surface\",\n",
    ")\n",
    "assert field.attrs[\"GRIB_count\"] == 394"
   ]
  },
  {
   "cell_type": "markdown",
   "id": "23",
   "metadata": {},
   "source": [
    "## 整层可降水量\n",
    "\n",
    "| 要素名 | wgrib2 | eccodes | cemc | GRIB Key | 层次类型 | 层次 | 编号 |\n",
    "|--------|---------|--------|------|----------|--------|------|-------|\n",
    "| 整层可降水量 | PWAT | pwat | pwat | (0, 1, 3) | atmosphere | - | 395 |"
   ]
  },
  {
   "cell_type": "code",
   "execution_count": null,
   "id": "24",
   "metadata": {},
   "outputs": [],
   "source": [
    "field = load_field_from_file(\n",
    "    meso_grib2_orig_file_path,\n",
    "    parameter=\"PWAT\",\n",
    "    level_type=\"atmosphere\",\n",
    ")\n",
    "assert field.attrs[\"GRIB_count\"] == 395"
   ]
  },
  {
   "cell_type": "code",
   "execution_count": null,
   "id": "25",
   "metadata": {},
   "outputs": [],
   "source": [
    "field = load_field_from_file(\n",
    "    meso_grib2_orig_file_path,\n",
    "    parameter=\"pwat\",\n",
    ")\n",
    "assert field.attrs[\"GRIB_count\"] == 395"
   ]
  },
  {
   "cell_type": "code",
   "execution_count": null,
   "id": "26",
   "metadata": {},
   "outputs": [],
   "source": [
    "field = load_field_from_file(\n",
    "    meso_grib2_orig_file_path,\n",
    "    parameter={\n",
    "        \"discipline\": 0,\n",
    "        \"parameterCategory\": 1,\n",
    "        \"parameterNumber\": 3,\n",
    "    },\n",
    "    level_type=\"atmosphere\",\n",
    ")\n",
    "assert field.attrs[\"GRIB_count\"] == 395"
   ]
  },
  {
   "cell_type": "markdown",
   "id": "27",
   "metadata": {},
   "source": [
    "## 能见度\n",
    "\n",
    "| 要素名 | wgrib2 | eccodes | cemc | GRIB Key | 层次类型 | 层次 | 编号 |\n",
    "|--------|---------|--------|------|----------|--------|------|-------|\n",
    "| 能见度 | VIS | vis | vis | (0, 19, 0) | surface | - | 396 |"
   ]
  },
  {
   "cell_type": "code",
   "execution_count": null,
   "id": "28",
   "metadata": {},
   "outputs": [],
   "source": [
    "field = load_field_from_file(\n",
    "    meso_grib2_orig_file_path,\n",
    "    parameter=\"VIS\",\n",
    ")\n",
    "assert field.attrs[\"GRIB_count\"] == 396"
   ]
  },
  {
   "cell_type": "code",
   "execution_count": null,
   "id": "29",
   "metadata": {},
   "outputs": [],
   "source": [
    "field = load_field_from_file(\n",
    "    meso_grib2_orig_file_path,\n",
    "    parameter=\"vis\",\n",
    ")\n",
    "assert field.attrs[\"GRIB_count\"] == 396"
   ]
  },
  {
   "cell_type": "code",
   "execution_count": null,
   "id": "30",
   "metadata": {},
   "outputs": [],
   "source": [
    "field = load_field_from_file(\n",
    "    meso_grib2_orig_file_path,\n",
    "    parameter={\n",
    "        \"discipline\": 0,\n",
    "        \"parameterCategory\": 19,\n",
    "        \"parameterNumber\": 0,\n",
    "    },\n",
    "    level_type=\"surface\",\n",
    ")\n",
    "assert field.attrs[\"GRIB_count\"] == 396"
   ]
  },
  {
   "cell_type": "markdown",
   "id": "31",
   "metadata": {},
   "source": [
    "## 阵风风速\n",
    "\n",
    "| 要素名 | wgrib2 | eccodes | cemc | GRIB Key | 层次类型 | 层次 | 编号 |\n",
    "|--------|---------|--------|------|----------|--------|------|-------|\n",
    "| 10米阵风风速 | GUST | i10fg | gust | (0, 2, 22) | heightAboveGround | 10 | 397 |"
   ]
  },
  {
   "cell_type": "code",
   "execution_count": null,
   "id": "32",
   "metadata": {},
   "outputs": [],
   "source": [
    "field = load_field_from_file(\n",
    "    meso_grib2_orig_file_path,\n",
    "    parameter=\"GUST\",\n",
    "    level_type=\"heightAboveGround\",\n",
    "    level=10,\n",
    ")\n",
    "assert field.attrs[\"GRIB_count\"] == 397"
   ]
  },
  {
   "cell_type": "code",
   "execution_count": null,
   "id": "33",
   "metadata": {},
   "outputs": [],
   "source": [
    "field = load_field_from_file(\n",
    "    meso_grib2_orig_file_path,\n",
    "    parameter=\"i10fg\",\n",
    ")\n",
    "assert field.attrs[\"GRIB_count\"] == 397"
   ]
  },
  {
   "cell_type": "code",
   "execution_count": null,
   "id": "34",
   "metadata": {},
   "outputs": [],
   "source": [
    "field = load_field_from_file(\n",
    "    meso_grib2_orig_file_path,\n",
    "    parameter=\"gust\",\n",
    "    level_type=\"heightAboveGround\",\n",
    "    level=10,\n",
    ")\n",
    "assert field.attrs[\"GRIB_count\"] == 397"
   ]
  },
  {
   "cell_type": "code",
   "execution_count": null,
   "id": "35",
   "metadata": {},
   "outputs": [],
   "source": [
    "field = load_field_from_file(\n",
    "    meso_grib2_orig_file_path,\n",
    "    parameter={\n",
    "        \"discipline\": 0,\n",
    "        \"parameterCategory\": 2,\n",
    "        \"parameterNumber\": 22,\n",
    "    },\n",
    "    level_type=\"heightAboveGround\",\n",
    "    level=10,\n",
    ")\n",
    "assert field.attrs[\"GRIB_count\"] == 397"
   ]
  },
  {
   "cell_type": "markdown",
   "id": "36",
   "metadata": {},
   "source": [
    "## 降水类型\n",
    "\n",
    "| 要素名 | wgrib2 | eccodes | cemc | GRIB Key | 层次类型 | 层次 | 编号 |\n",
    "|--------|---------|--------|------|----------|--------|------|-------|\n",
    "| 降水类型 | PTYPE | ptype | precitype | (0, 1, 19) | surface | - | 398 |"
   ]
  },
  {
   "cell_type": "code",
   "execution_count": null,
   "id": "37",
   "metadata": {},
   "outputs": [],
   "source": [
    "field = load_field_from_file(\n",
    "    meso_grib2_orig_file_path,\n",
    "    parameter=\"PTYPE\",\n",
    ")\n",
    "assert field.attrs[\"GRIB_count\"] == 398"
   ]
  },
  {
   "cell_type": "code",
   "execution_count": null,
   "id": "38",
   "metadata": {},
   "outputs": [],
   "source": [
    "field = load_field_from_file(\n",
    "    meso_grib2_orig_file_path,\n",
    "    parameter=\"ptype\",\n",
    ")\n",
    "assert field.attrs[\"GRIB_count\"] == 398"
   ]
  },
  {
   "cell_type": "code",
   "execution_count": null,
   "id": "39",
   "metadata": {},
   "outputs": [],
   "source": [
    "field = load_field_from_file(\n",
    "    meso_grib2_orig_file_path,\n",
    "    parameter=\"precitype\",\n",
    ")\n",
    "assert field.attrs[\"GRIB_count\"] == 398"
   ]
  },
  {
   "cell_type": "code",
   "execution_count": null,
   "id": "40",
   "metadata": {},
   "outputs": [],
   "source": [
    "field = load_field_from_file(\n",
    "    meso_grib2_orig_file_path,\n",
    "    parameter={\n",
    "        \"discipline\": 0,\n",
    "        \"parameterCategory\": 1,\n",
    "        \"parameterNumber\": 19,\n",
    "    },\n",
    ")\n",
    "assert field.attrs[\"GRIB_count\"] == 398"
   ]
  },
  {
   "cell_type": "markdown",
   "id": "41",
   "metadata": {},
   "source": [
    "## 云顶高度\n",
    "\n",
    "| 要素名 | wgrib2 | eccodes | cemc | GRIB Key | 层次类型 | 层次 | 编号 |\n",
    "|--------|---------|--------|------|----------|--------|------|-------|\n",
    "| 云顶高度 | CDCTOP | cdct | cldt | (0, 6, 12) | surface | - | 399 |"
   ]
  },
  {
   "cell_type": "code",
   "execution_count": null,
   "id": "42",
   "metadata": {},
   "outputs": [],
   "source": [
    "field = load_field_from_file(\n",
    "    meso_grib2_orig_file_path,\n",
    "    parameter=\"CDCTOP\",\n",
    ")\n",
    "assert field.attrs[\"GRIB_count\"] == 399"
   ]
  },
  {
   "cell_type": "code",
   "execution_count": null,
   "id": "43",
   "metadata": {},
   "outputs": [],
   "source": [
    "field = load_field_from_file(\n",
    "    meso_grib2_orig_file_path,\n",
    "    parameter=\"cdct\",\n",
    ")\n",
    "assert field.attrs[\"GRIB_count\"] == 399"
   ]
  },
  {
   "cell_type": "code",
   "execution_count": null,
   "id": "44",
   "metadata": {},
   "outputs": [],
   "source": [
    "field = load_field_from_file(\n",
    "    meso_grib2_orig_file_path,\n",
    "    parameter=\"cldt\",\n",
    ")\n",
    "assert field.attrs[\"GRIB_count\"] == 399"
   ]
  },
  {
   "cell_type": "code",
   "execution_count": null,
   "id": "45",
   "metadata": {},
   "outputs": [],
   "source": [
    "field = load_field_from_file(\n",
    "    meso_grib2_orig_file_path,\n",
    "    parameter={\n",
    "        \"discipline\": 0,\n",
    "        \"parameterCategory\": 6,\n",
    "        \"parameterNumber\": 12,\n",
    "    },\n",
    "    level_type=\"surface\",\n",
    ")\n",
    "assert field.attrs[\"GRIB_count\"] == 399"
   ]
  },
  {
   "cell_type": "markdown",
   "id": "46",
   "metadata": {},
   "source": [
    "## 云底高度\n",
    "\n",
    "| 要素名 | wgrib2 | eccodes | cemc | GRIB Key | 层次类型 | 层次 | 编号 |\n",
    "|--------|---------|--------|------|----------|--------|------|-------|\n",
    "| 云底高度 | CDCB | - | cldb | (0, 6, 11) | surface | - | 400 |"
   ]
  },
  {
   "cell_type": "code",
   "execution_count": null,
   "id": "47",
   "metadata": {},
   "outputs": [],
   "source": [
    "field = load_field_from_file(\n",
    "    meso_grib2_orig_file_path,\n",
    "    parameter=\"CDCB\",\n",
    ")\n",
    "assert field.attrs[\"GRIB_count\"] == 400"
   ]
  },
  {
   "cell_type": "code",
   "execution_count": null,
   "id": "48",
   "metadata": {},
   "outputs": [],
   "source": [
    "field = load_field_from_file(\n",
    "    meso_grib2_orig_file_path,\n",
    "    parameter=\"cldb\",\n",
    ")\n",
    "assert field.attrs[\"GRIB_count\"] == 400"
   ]
  },
  {
   "cell_type": "code",
   "execution_count": null,
   "id": "49",
   "metadata": {},
   "outputs": [],
   "source": [
    "field = load_field_from_file(\n",
    "    meso_grib2_orig_file_path,\n",
    "    parameter={\n",
    "        \"discipline\": 0,\n",
    "        \"parameterCategory\": 6,\n",
    "        \"parameterNumber\": 11,\n",
    "    },\n",
    "    level_type=\"surface\",\n",
    ")\n",
    "assert field.attrs[\"GRIB_count\"] == 400"
   ]
  },
  {
   "cell_type": "markdown",
   "id": "50",
   "metadata": {},
   "source": [
    "### 卫星水汽通道模拟亮温\n",
    "\n",
    "| 要素名 | wgrib2 | eccodes | cemc | GRIB Key | 层次类型 | 层次 | 编号 |\n",
    "|--------|---------|--------|------|----------|--------|------|-------|\n",
    "| 卫星水汽通道模拟亮温 | - | - | bti | (0, 4, 228) | surface | - | 401 |"
   ]
  },
  {
   "cell_type": "code",
   "execution_count": null,
   "id": "51",
   "metadata": {},
   "outputs": [],
   "source": [
    "field = load_field_from_file(\n",
    "    meso_grib2_orig_file_path,\n",
    "    parameter=\"bti\",\n",
    ")\n",
    "assert field.attrs[\"GRIB_count\"] == 401"
   ]
  },
  {
   "cell_type": "code",
   "execution_count": null,
   "id": "52",
   "metadata": {},
   "outputs": [],
   "source": [
    "field = load_field_from_file(\n",
    "    meso_grib2_orig_file_path,\n",
    "    parameter={\n",
    "        \"discipline\": 0,\n",
    "        \"parameterCategory\": 4,\n",
    "        \"parameterNumber\": 228,\n",
    "    },\n",
    ")\n",
    "assert field.attrs[\"GRIB_count\"] == 401"
   ]
  },
  {
   "cell_type": "markdown",
   "id": "53",
   "metadata": {},
   "source": [
    "## 卫星红外通道模拟亮温\n",
    "\n",
    "| 要素名 | wgrib2 | eccodes | cemc | GRIB Key | 层次类型 | 层次 | 编号 |\n",
    "|--------|---------|--------|------|----------|--------|------|-------|\n",
    "| 卫星红外通道模拟亮温 | - | - | btv | (0, 4, 227) | surface | - | 402 |"
   ]
  },
  {
   "cell_type": "code",
   "execution_count": null,
   "id": "54",
   "metadata": {},
   "outputs": [],
   "source": [
    "field = load_field_from_file(\n",
    "    meso_grib2_orig_file_path,\n",
    "    parameter=\"btv\",\n",
    ")\n",
    "assert field.attrs[\"GRIB_count\"] == 402"
   ]
  },
  {
   "cell_type": "code",
   "execution_count": null,
   "id": "55",
   "metadata": {},
   "outputs": [],
   "source": [
    "field = load_field_from_file(\n",
    "    meso_grib2_orig_file_path,\n",
    "    parameter={\n",
    "        \"discipline\": 0,\n",
    "        \"parameterCategory\": 4,\n",
    "        \"parameterNumber\": 227,\n",
    "    },\n",
    ")\n",
    "assert field.attrs[\"GRIB_count\"] == 402"
   ]
  }
 ],
 "metadata": {
  "kernelspec": {
   "display_name": "py312-cedar-dev",
   "language": "python",
   "name": "python3"
  },
  "language_info": {
   "codemirror_mode": {
    "name": "ipython",
    "version": 3
   },
   "file_extension": ".py",
   "mimetype": "text/x-python",
   "name": "python",
   "nbconvert_exporter": "python",
   "pygments_lexer": "ipython3",
   "version": "3.12.11"
  }
 },
 "nbformat": 4,
 "nbformat_minor": 5
}
