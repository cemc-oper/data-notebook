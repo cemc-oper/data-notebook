{
 "cells": [
  {
   "cell_type": "markdown",
   "id": "0",
   "metadata": {},
   "source": [
    "## MESO要素清单：280-323"
   ]
  },
  {
   "cell_type": "code",
   "execution_count": null,
   "id": "1",
   "metadata": {},
   "outputs": [],
   "source": [
    "import numpy as np\n",
    "import pandas as pd\n",
    "import xarray as xr\n",
    "\n",
    "from reki.data_finder import find_local_file\n",
    "from reki.format.grib.eccodes import load_field_from_file"
   ]
  },
  {
   "cell_type": "code",
   "execution_count": null,
   "id": "2",
   "metadata": {},
   "outputs": [],
   "source": [
    "start_time = pd.Timestamp.utcnow().floor(freq=\"D\") - pd.Timedelta(days=2)\n",
    "start_time_label = start_time.strftime(\"%Y%m%d%H\")\n",
    "forecast_time_label = \"24h\"\n",
    "forecast_time = pd.to_timedelta(forecast_time_label)\n",
    "\n",
    "meso_grib2_orig_file_path = find_local_file(\n",
    "    \"cma_meso_1km/grib2/orig\",\n",
    "    start_time=start_time,\n",
    "    forecast_time=forecast_time,\n",
    ")\n",
    "meso_grib2_orig_file_path"
   ]
  },
  {
   "cell_type": "markdown",
   "id": "3",
   "metadata": {},
   "source": [
    "## 层次\n",
    "\n",
    "21 层，层次列表如下：\n",
    "\n",
    "- 1000\n",
    "- 975\n",
    "- 950\n",
    "- 925\n",
    "- 900\n",
    "- 850\n",
    "- 800\n",
    "- 750\n",
    "- 700\n",
    "- 650\n",
    "- 600\n",
    "- 550\n",
    "- 500\n",
    "- 450\n",
    "- 400\n",
    "- 350\n",
    "- 300\n",
    "- 250\n",
    "- 200\n",
    "- 150\n",
    "- 100\n",
    "\n",
    "5 层，层次列表如下：\n",
    "\n",
    "- 1000\n",
    "- 925\n",
    "- 850\n",
    "- 700\n",
    "- 500\n",
    "\n",
    "3 层，层次列表如下：\n",
    "\n",
    "- 850\n",
    "- 700\n",
    "- 500"
   ]
  },
  {
   "cell_type": "markdown",
   "id": "4",
   "metadata": {},
   "source": [
    "## 云量\n",
    "\n",
    "| 要素名 | wgrib2 | eccodes | cemc | GRIB Key | 层次类型 | 层次 | 编号 |\n",
    "|--------|---------|--------|------|----------|--------|------|------|\n",
    "| 云量 | CDCC | ccl | cc | (0, 6, 22) | pl | 21层 | 280-300 |"
   ]
  },
  {
   "cell_type": "code",
   "execution_count": null,
   "id": "5",
   "metadata": {},
   "outputs": [],
   "source": [
    "field = load_field_from_file(\n",
    "    meso_grib2_orig_file_path,\n",
    "    parameter=\"CDCC\",\n",
    "    level_type=\"pl\",\n",
    "    level=1000,\n",
    ")\n",
    "assert field.attrs[\"GRIB_count\"] == 280"
   ]
  },
  {
   "cell_type": "code",
   "execution_count": null,
   "id": "6",
   "metadata": {},
   "outputs": [],
   "source": [
    "field = load_field_from_file(\n",
    "    meso_grib2_orig_file_path,\n",
    "    parameter=\"ccl\",\n",
    "    level_type=\"pl\",\n",
    "    level=850,\n",
    ")\n",
    "assert field.attrs[\"GRIB_count\"] == 285"
   ]
  },
  {
   "cell_type": "code",
   "execution_count": null,
   "id": "7",
   "metadata": {},
   "outputs": [],
   "source": [
    "field = load_field_from_file(\n",
    "    meso_grib2_orig_file_path,\n",
    "    parameter=\"cc\",\n",
    "    level_type=\"pl\",\n",
    "    level=200,\n",
    ")\n",
    "assert field.attrs[\"GRIB_count\"] == 298"
   ]
  },
  {
   "cell_type": "code",
   "execution_count": null,
   "id": "8",
   "metadata": {},
   "outputs": [],
   "source": [
    "field = load_field_from_file(\n",
    "    meso_grib2_orig_file_path,\n",
    "    parameter={\n",
    "        \"discipline\": 0,\n",
    "        \"parameterCategory\": 6,\n",
    "        \"parameterNumber\": 22,\n",
    "    },\n",
    "    level_type=\"pl\",\n",
    "    level=100,\n",
    ")\n",
    "assert field.attrs[\"GRIB_count\"] == 300"
   ]
  },
  {
   "cell_type": "markdown",
   "id": "9",
   "metadata": {},
   "source": [
    "## 相对湿度\n",
    "\n",
    "| 要素名 | wgrib2 | eccodes | cemc | GRIB Key | 层次类型 | 层次 | 编号 |\n",
    "|--------|---------|--------|------|----------|--------|------|-----|\n",
    "| 相对湿度 | RH | r | rh | (0, 1, 1) | pl | 21层 | 301-321 |"
   ]
  },
  {
   "cell_type": "code",
   "execution_count": null,
   "id": "10",
   "metadata": {},
   "outputs": [],
   "source": [
    "field = load_field_from_file(\n",
    "    meso_grib2_orig_file_path,\n",
    "    parameter=\"RH\",\n",
    "    level_type=\"pl\",\n",
    "    level=1000,\n",
    ")\n",
    "assert field.attrs[\"GRIB_count\"] == 301"
   ]
  },
  {
   "cell_type": "code",
   "execution_count": null,
   "id": "11",
   "metadata": {},
   "outputs": [],
   "source": [
    "field = load_field_from_file(\n",
    "    meso_grib2_orig_file_path,\n",
    "    parameter=\"r\",\n",
    "    level_type=\"pl\",\n",
    "    level=850,\n",
    ")\n",
    "assert field.attrs[\"GRIB_count\"] == 306"
   ]
  },
  {
   "cell_type": "code",
   "execution_count": null,
   "id": "12",
   "metadata": {},
   "outputs": [],
   "source": [
    "field = load_field_from_file(\n",
    "    meso_grib2_orig_file_path,\n",
    "    parameter=\"rh\",\n",
    "    level_type=\"pl\",\n",
    "    level=200,\n",
    ")\n",
    "assert field.attrs[\"GRIB_count\"] == 319"
   ]
  },
  {
   "cell_type": "code",
   "execution_count": null,
   "id": "13",
   "metadata": {},
   "outputs": [],
   "source": [
    "field = load_field_from_file(\n",
    "    meso_grib2_orig_file_path,\n",
    "    parameter={\n",
    "        \"discipline\": 0,\n",
    "        \"parameterCategory\": 1,\n",
    "        \"parameterNumber\": 1,\n",
    "    },\n",
    "    level_type=\"pl\",\n",
    "    level=100,\n",
    ")\n",
    "assert field.attrs[\"GRIB_count\"] == 321"
   ]
  },
  {
   "cell_type": "markdown",
   "id": "14",
   "metadata": {},
   "source": [
    "## 2米相对湿度\n",
    "\n",
    "| 要素名 | wgrib2 | eccodes | cemc | GRIB Key | 层次类型 | 层次 | 编号 |\n",
    "|--------|---------|--------|------|----------|--------|------|-----|\n",
    "| 2米相对湿度 | RH | 2r | rh2m | (0, 1, 1) | heightAboveGround | 2 | 322 |"
   ]
  },
  {
   "cell_type": "code",
   "execution_count": null,
   "id": "15",
   "metadata": {},
   "outputs": [],
   "source": [
    "field = load_field_from_file(\n",
    "    meso_grib2_orig_file_path,\n",
    "    parameter=\"RH\",\n",
    "    level_type=\"heightAboveGround\",\n",
    "    level=2,\n",
    ")\n",
    "assert field.attrs[\"GRIB_count\"] == 322"
   ]
  },
  {
   "cell_type": "code",
   "execution_count": null,
   "id": "16",
   "metadata": {},
   "outputs": [],
   "source": [
    "field = load_field_from_file(\n",
    "    meso_grib2_orig_file_path,\n",
    "    parameter=\"2r\",\n",
    ")\n",
    "assert field.attrs[\"GRIB_count\"] == 322"
   ]
  },
  {
   "cell_type": "code",
   "execution_count": null,
   "id": "17",
   "metadata": {},
   "outputs": [],
   "source": [
    "field = load_field_from_file(\n",
    "    meso_grib2_orig_file_path,\n",
    "    parameter=\"rh2m\",\n",
    ")\n",
    "assert field.attrs[\"GRIB_count\"] == 322"
   ]
  },
  {
   "cell_type": "code",
   "execution_count": null,
   "id": "18",
   "metadata": {},
   "outputs": [],
   "source": [
    "field = load_field_from_file(\n",
    "    meso_grib2_orig_file_path,\n",
    "    parameter={\n",
    "        \"discipline\": 0,\n",
    "        \"parameterCategory\": 1,\n",
    "        \"parameterNumber\": 1,\n",
    "    },\n",
    "    level_type=\"heightAboveGround\",\n",
    "    level=2,\n",
    ")\n",
    "assert field.attrs[\"GRIB_count\"] == 322"
   ]
  },
  {
   "cell_type": "markdown",
   "id": "19",
   "metadata": {},
   "source": [
    "## 2米露点温度\n",
    "\n",
    "| 要素名 | wgrib2 | eccodes | cemc | GRIB Key | 层次类型 | 层次 | 编号 |\n",
    "|--------|---------|--------|------|----------|--------|------|------|\n",
    "| 2米露点温度 | DPT | 2d | td2m | (0, 0, 6) | heightAboveGround | 2 | 323 |"
   ]
  },
  {
   "cell_type": "code",
   "execution_count": null,
   "id": "20",
   "metadata": {},
   "outputs": [],
   "source": [
    "field = load_field_from_file(\n",
    "    meso_grib2_orig_file_path,\n",
    "    parameter=\"DPT\",\n",
    "    level_type=\"heightAboveGround\",\n",
    "    level=2,\n",
    ")\n",
    "assert field.attrs[\"GRIB_count\"] == 323"
   ]
  },
  {
   "cell_type": "code",
   "execution_count": null,
   "id": "21",
   "metadata": {},
   "outputs": [],
   "source": [
    "field = load_field_from_file(\n",
    "    meso_grib2_orig_file_path,\n",
    "    parameter=\"2d\",\n",
    ")\n",
    "assert field.attrs[\"GRIB_count\"] == 323"
   ]
  },
  {
   "cell_type": "code",
   "execution_count": null,
   "id": "22",
   "metadata": {},
   "outputs": [],
   "source": [
    "field = load_field_from_file(\n",
    "    meso_grib2_orig_file_path,\n",
    "    parameter=\"td2m\",\n",
    ")\n",
    "assert field.attrs[\"GRIB_count\"] == 323"
   ]
  },
  {
   "cell_type": "code",
   "execution_count": null,
   "id": "23",
   "metadata": {},
   "outputs": [],
   "source": [
    "field = load_field_from_file(\n",
    "    meso_grib2_orig_file_path,\n",
    "    parameter={\n",
    "        \"discipline\": 0,\n",
    "        \"parameterCategory\": 0,\n",
    "        \"parameterNumber\": 6,\n",
    "    },\n",
    "    level_type=\"heightAboveGround\",\n",
    "    level=2,\n",
    ")\n",
    "assert field.attrs[\"GRIB_count\"] == 323"
   ]
  }
 ],
 "metadata": {
  "kernelspec": {
   "display_name": "py312-cedar-dev",
   "language": "python",
   "name": "python3"
  },
  "language_info": {
   "codemirror_mode": {
    "name": "ipython",
    "version": 3
   },
   "file_extension": ".py",
   "mimetype": "text/x-python",
   "name": "python",
   "nbconvert_exporter": "python",
   "pygments_lexer": "ipython3",
   "version": "3.12.11"
  }
 },
 "nbformat": 4,
 "nbformat_minor": 5
}
