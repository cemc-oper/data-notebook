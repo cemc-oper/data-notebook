{
 "cells": [
  {
   "cell_type": "markdown",
   "id": "0",
   "metadata": {},
   "source": [
    "# MESO要素清单：31-48"
   ]
  },
  {
   "cell_type": "code",
   "execution_count": null,
   "id": "1",
   "metadata": {},
   "outputs": [],
   "source": [
    "import numpy as np\n",
    "import pandas as pd\n",
    "import xarray as xr\n",
    "\n",
    "from reki.data_finder import find_local_file\n",
    "from reki.format.grib.eccodes import load_field_from_file"
   ]
  },
  {
   "cell_type": "code",
   "execution_count": null,
   "id": "2",
   "metadata": {},
   "outputs": [],
   "source": [
    "start_time = pd.Timestamp.utcnow().floor(freq=\"D\") - pd.Timedelta(days=2)\n",
    "start_time_label = start_time.strftime(\"%Y%m%d%H\")\n",
    "forecast_time_label = \"24h\"\n",
    "forecast_time = pd.to_timedelta(forecast_time_label)\n",
    "\n",
    "meso_grib2_orig_file_path = find_local_file(\n",
    "    \"cma_meso_1km/grib2/orig\",\n",
    "    start_time=start_time,\n",
    "    forecast_time=forecast_time,\n",
    ")\n",
    "meso_grib2_orig_file_path"
   ]
  },
  {
   "cell_type": "markdown",
   "id": "3",
   "metadata": {},
   "source": [
    "## 等高面u风\n",
    "\n",
    "| 要素名 | wgrib2 | eccodes | cemc | GRIB Key | 层次类型 | 层次 | 编号 |\n",
    "|--------|---------|--------|------|----------|--------|------|------|\n",
    "| 等高面u风 | UGRD | u | u | (0, 2, 2) | heightAboveGround | 30, 50, 70 | 31-33 |\n",
    "| 等高面u风 | UGRD | 100u | u | (0, 2, 2) | heightAboveGround | 100 | 34 |\n",
    "| 等高面u风 | UGRD | u | u | (0, 2, 2) | heightAboveGround | 120, 140, 160, 180 | 35-38 |\n",
    "| 等高面u风 | UGRD | 200u | u | (0, 2, 2) | heightAboveGround | 200 | 39 |"
   ]
  },
  {
   "cell_type": "code",
   "execution_count": null,
   "id": "4",
   "metadata": {},
   "outputs": [],
   "source": [
    "field = load_field_from_file(\n",
    "    meso_grib2_orig_file_path,\n",
    "    parameter=\"UGRD\",\n",
    "    level_type=\"heightAboveGround\",\n",
    "    level=30,\n",
    ")\n",
    "assert field.attrs[\"GRIB_count\"] == 31"
   ]
  },
  {
   "cell_type": "code",
   "execution_count": null,
   "id": "5",
   "metadata": {},
   "outputs": [],
   "source": [
    "field = load_field_from_file(\n",
    "    meso_grib2_orig_file_path,\n",
    "    parameter=\"u\",\n",
    "    level_type=\"heightAboveGround\",\n",
    "    level=50,\n",
    ")\n",
    "assert field.attrs[\"GRIB_count\"] == 32"
   ]
  },
  {
   "cell_type": "code",
   "execution_count": null,
   "id": "6",
   "metadata": {},
   "outputs": [],
   "source": [
    "field = load_field_from_file(\n",
    "    meso_grib2_orig_file_path,\n",
    "    parameter=\"100u\",\n",
    ")\n",
    "assert field.attrs[\"GRIB_count\"] == 34"
   ]
  },
  {
   "cell_type": "code",
   "execution_count": null,
   "id": "7",
   "metadata": {},
   "outputs": [],
   "source": [
    "field = load_field_from_file(\n",
    "    meso_grib2_orig_file_path,\n",
    "    parameter={\n",
    "        \"discipline\": 0,\n",
    "        \"parameterCategory\": 2,\n",
    "        \"parameterNumber\": 2,\n",
    "    },\n",
    "    level_type=\"heightAboveGround\",\n",
    "    level=120,\n",
    ")\n",
    "assert field.attrs[\"GRIB_count\"] == 35"
   ]
  },
  {
   "cell_type": "code",
   "execution_count": null,
   "id": "8",
   "metadata": {},
   "outputs": [],
   "source": [
    "field = load_field_from_file(\n",
    "    meso_grib2_orig_file_path,\n",
    "    parameter=\"200u\",\n",
    ")\n",
    "assert field.attrs[\"GRIB_count\"] == 39"
   ]
  },
  {
   "cell_type": "markdown",
   "id": "9",
   "metadata": {},
   "source": [
    "## 等高面v风\n",
    "\n",
    "| 要素名 | wgrib2 | eccodes | cemc | GRIB Key | 层次类型 | 层次 | 编号 |\n",
    "|--------|---------|--------|------|----------|--------|------|-------|\n",
    "| 等高面v风 | VGRD | v | v | (0, 2, 3) | heightAboveGround | 30, 50, 70 | 40-42 |\n",
    "| 等高面v风 | VGRD | 100v | v | (0, 2, 3) | heightAboveGround | 100 | 43 |\n",
    "| 等高面v风 | VGRD | v | v | (0, 2, 3) | heightAboveGround | 120, 140, 160, 180 | 44-47 |\n",
    "| 等高面v风 | VGRD | 200v | v | (0, 2, 3) | heightAboveGround | 200 | 48 |"
   ]
  },
  {
   "cell_type": "code",
   "execution_count": null,
   "id": "10",
   "metadata": {},
   "outputs": [],
   "source": [
    "field = load_field_from_file(\n",
    "    meso_grib2_orig_file_path,\n",
    "    parameter=\"VGRD\",\n",
    "    level_type=\"heightAboveGround\",\n",
    "    level=30,\n",
    ")\n",
    "assert field.attrs[\"GRIB_count\"] == 40"
   ]
  },
  {
   "cell_type": "code",
   "execution_count": null,
   "id": "11",
   "metadata": {},
   "outputs": [],
   "source": [
    "field = load_field_from_file(\n",
    "    meso_grib2_orig_file_path,\n",
    "    parameter=\"v\",\n",
    "    level_type=\"heightAboveGround\",\n",
    "    level=50,\n",
    ")\n",
    "assert field.attrs[\"GRIB_count\"] == 41"
   ]
  },
  {
   "cell_type": "code",
   "execution_count": null,
   "id": "12",
   "metadata": {},
   "outputs": [],
   "source": [
    "field = load_field_from_file(\n",
    "    meso_grib2_orig_file_path,\n",
    "    parameter=\"100v\",\n",
    ")\n",
    "assert field.attrs[\"GRIB_count\"] == 43"
   ]
  },
  {
   "cell_type": "code",
   "execution_count": null,
   "id": "13",
   "metadata": {},
   "outputs": [],
   "source": [
    "field = load_field_from_file(\n",
    "    meso_grib2_orig_file_path,\n",
    "    parameter={\n",
    "        \"discipline\": 0,\n",
    "        \"parameterCategory\": 2,\n",
    "        \"parameterNumber\": 3,\n",
    "    },\n",
    "    level_type=\"heightAboveGround\",\n",
    "    level=120,\n",
    ")\n",
    "assert field.attrs[\"GRIB_count\"] == 44"
   ]
  },
  {
   "cell_type": "code",
   "execution_count": null,
   "id": "14",
   "metadata": {},
   "outputs": [],
   "source": [
    "field = load_field_from_file(\n",
    "    meso_grib2_orig_file_path,\n",
    "    parameter=\"200v\",\n",
    ")\n",
    "assert field.attrs[\"GRIB_count\"] == 48"
   ]
  }
 ],
 "metadata": {
  "kernelspec": {
   "display_name": "py312-cedar-dev",
   "language": "python",
   "name": "python3"
  },
  "language_info": {
   "codemirror_mode": {
    "name": "ipython",
    "version": 3
   },
   "file_extension": ".py",
   "mimetype": "text/x-python",
   "name": "python",
   "nbconvert_exporter": "python",
   "pygments_lexer": "ipython3",
   "version": "3.12.11"
  }
 },
 "nbformat": 4,
 "nbformat_minor": 5
}
