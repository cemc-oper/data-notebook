{
 "cells": [
  {
   "cell_type": "markdown",
   "id": "0",
   "metadata": {},
   "source": [
    "# CMA-MESO 1KM"
   ]
  },
  {
   "cell_type": "markdown",
   "id": "1",
   "metadata": {},
   "source": [
    "CMA-MESO 基础 GRIB2 数据文件有 402 个要素场。"
   ]
  },
  {
   "cell_type": "code",
   "execution_count": null,
   "id": "2",
   "metadata": {},
   "outputs": [],
   "source": [
    "import numpy as np\n",
    "import pandas as pd\n",
    "import xarray as xr\n",
    "\n",
    "from reki.data_finder import find_local_file\n",
    "from reki.format.grib.eccodes import load_field_from_file"
   ]
  },
  {
   "cell_type": "code",
   "execution_count": null,
   "id": "3",
   "metadata": {},
   "outputs": [],
   "source": [
    "start_time = pd.Timestamp.utcnow().floor(freq=\"D\") - pd.Timedelta(days=2)\n",
    "start_time_label = start_time.strftime(\"%Y%m%d%H\")\n",
    "forecast_time_label = \"24h\"\n",
    "forecast_time = pd.to_timedelta(forecast_time_label)\n",
    "\n",
    "meso_grib2_orig_file_path = find_local_file(\n",
    "    \"cma_meso_1km/grib2/orig\",\n",
    "    start_time=start_time,\n",
    "    forecast_time=forecast_time,\n",
    ")\n",
    "meso_grib2_orig_file_path"
   ]
  },
  {
   "cell_type": "markdown",
   "id": "4",
   "metadata": {},
   "source": [
    "## 要素列表\n",
    "\n",
    "使用 ecCodes 打印 CMA-GFS 基础 GRIB2 数据的要素列表。"
   ]
  },
  {
   "cell_type": "code",
   "execution_count": null,
   "id": "5",
   "metadata": {
    "tags": [
     "scroll-output"
    ]
   },
   "outputs": [],
   "source": [
    "from IPython.utils.capture import capture_output\n",
    "\n",
    "with capture_output() as captured:\n",
    "    !module load eccodes/2.29.0/intel && grib_ls -P count \"{meso_grib2_orig_file_path}\" 2>/dev/null\n",
    "\n",
    "print(captured.stdout)"
   ]
  },
  {
   "cell_type": "markdown",
   "id": "6",
   "metadata": {},
   "source": [
    "使用 wgrib2 打印 CMA-GFS 基础 GRIB2 数据的要素列表。"
   ]
  },
  {
   "cell_type": "code",
   "execution_count": null,
   "id": "7",
   "metadata": {
    "tags": [
     "scroll-output"
    ]
   },
   "outputs": [],
   "source": [
    "from IPython.utils.capture import capture_output\n",
    "\n",
    "with capture_output() as captured:\n",
    "    !module load wgrib2/3.1.1/intel && wgrib2 \"{meso_grib2_orig_file_path}\" 2>/dev/null\n",
    "\n",
    "print(captured.stdout)"
   ]
  },
  {
   "cell_type": "markdown",
   "id": "8",
   "metadata": {},
   "source": [
    "对 wgrib2 输出信息进行分组展示。\n",
    "\n",
    "```{note}\n",
    "本节代码由 ChatGPT 生成。\n",
    "```"
   ]
  },
  {
   "cell_type": "code",
   "execution_count": null,
   "id": "9",
   "metadata": {
    "tags": [
     "scroll-output"
    ]
   },
   "outputs": [],
   "source": [
    "import re\n",
    "import textwrap\n",
    "from collections import defaultdict\n",
    "from IPython.utils.capture import capture_output\n",
    "\n",
    "with capture_output() as captured:\n",
    "    !module load wgrib2/3.1.1/intel && wgrib2 \"{meso_grib2_orig_file_path}\" 2>/dev/null\n",
    "\n",
    "text = captured.stdout\n",
    "\n",
    "lines = text.strip().splitlines()\n",
    "grouped = defaultdict(list)\n",
    "\n",
    "pattern = re.compile(r'^(\\d+):\\d+:d=\\d+:([^:]+):([^:]+):([^:]+):?$')\n",
    "\n",
    "for line in lines:\n",
    "    match = pattern.match(line)\n",
    "    if match:\n",
    "        index, param, level, fcst = match.groups()\n",
    "        grouped[(param.strip(), fcst.strip())].append((level.strip(), int(index)))\n",
    "\n",
    "WRAP_WIDTH = 80\n",
    "\n",
    "for (param, fcst), level_index_list in grouped.items():\n",
    "    level_index_list.sort(key=lambda x: x[1])\n",
    "    level_strs = [f\"{level} ({index})\" for level, index in level_index_list]\n",
    "    full_line = ', '.join(level_strs)\n",
    "    wrapped = textwrap.fill(full_line, width=WRAP_WIDTH, subsequent_indent='  ', initial_indent='  ')\n",
    "    print(f\"{param} @ {fcst}:\\n{wrapped}\\n\")"
   ]
  },
  {
   "cell_type": "code",
   "execution_count": null,
   "id": "10",
   "metadata": {},
   "outputs": [],
   "source": []
  }
 ],
 "metadata": {
  "kernelspec": {
   "display_name": "py312-cedar-dev",
   "language": "python",
   "name": "python3"
  },
  "language_info": {
   "codemirror_mode": {
    "name": "ipython",
    "version": 3
   },
   "file_extension": ".py",
   "mimetype": "text/x-python",
   "name": "python",
   "nbconvert_exporter": "python",
   "pygments_lexer": "ipython3",
   "version": "3.12.11"
  }
 },
 "nbformat": 4,
 "nbformat_minor": 5
}
