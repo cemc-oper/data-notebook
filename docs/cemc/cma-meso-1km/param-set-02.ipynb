{
 "cells": [
  {
   "cell_type": "markdown",
   "id": "0",
   "metadata": {},
   "source": [
    "# MESO要素清单：11-21"
   ]
  },
  {
   "cell_type": "code",
   "execution_count": null,
   "id": "1",
   "metadata": {},
   "outputs": [],
   "source": [
    "import numpy as np\n",
    "import pandas as pd\n",
    "import xarray as xr\n",
    "\n",
    "from reki.data_finder import find_local_file\n",
    "from reki.format.grib.eccodes import load_field_from_file"
   ]
  },
  {
   "cell_type": "code",
   "execution_count": null,
   "id": "2",
   "metadata": {},
   "outputs": [],
   "source": [
    "start_time = pd.Timestamp.utcnow().floor(freq=\"D\") - pd.Timedelta(days=2)\n",
    "start_time_label = start_time.strftime(\"%Y%m%d%H\")\n",
    "forecast_time_label = \"24h\"\n",
    "forecast_time = pd.to_timedelta(forecast_time_label)\n",
    "\n",
    "meso_grib2_orig_file_path = find_local_file(\n",
    "    \"cma_meso_1km/grib2/orig\",\n",
    "    start_time=start_time,\n",
    "    forecast_time=forecast_time,\n",
    ")\n",
    "meso_grib2_orig_file_path"
   ]
  },
  {
   "cell_type": "markdown",
   "id": "3",
   "metadata": {},
   "source": [
    "## 总云量\n",
    "\n",
    "| 要素名 | wgrib2 | eccodes | cemc | GRIB Key | 层次类型 | 层次 | 编号 |\n",
    "|--------|---------|--------|------|----------|--------|------|------|\n",
    "| 总云量 | TCDC | tcc | tcc | (0, 6, 1) | entireAtmosphere | - | 11 |"
   ]
  },
  {
   "cell_type": "code",
   "execution_count": null,
   "id": "4",
   "metadata": {},
   "outputs": [],
   "source": [
    "field = load_field_from_file(\n",
    "    meso_grib2_orig_file_path,\n",
    "    parameter=\"TCDC\",\n",
    ")\n",
    "assert field.attrs[\"GRIB_count\"] == 11"
   ]
  },
  {
   "cell_type": "code",
   "execution_count": null,
   "id": "5",
   "metadata": {},
   "outputs": [],
   "source": [
    "field = load_field_from_file(\n",
    "    meso_grib2_orig_file_path,\n",
    "    parameter=\"tcc\",\n",
    ")\n",
    "assert field.attrs[\"GRIB_count\"] == 11"
   ]
  },
  {
   "cell_type": "code",
   "execution_count": null,
   "id": "6",
   "metadata": {},
   "outputs": [],
   "source": [
    "field = load_field_from_file(\n",
    "    meso_grib2_orig_file_path,\n",
    "    parameter={\n",
    "        \"discipline\": 0,\n",
    "        \"parameterCategory\": 6,\n",
    "        \"parameterNumber\": 1,\n",
    "    },\n",
    "    level_type=\"entireAtmosphere\",\n",
    ")\n",
    "assert field.attrs[\"GRIB_count\"] == 11"
   ]
  },
  {
   "cell_type": "markdown",
   "id": "7",
   "metadata": {},
   "source": [
    "## 低云量\n",
    "\n",
    "| 要素名 | wgrib2 | eccodes | cemc | GRIB Key | 层次类型 | 层次 | 编号 |\n",
    "|--------|---------|--------|------|----------|--------|------|------|\n",
    "| 低云量 | LCDC | lcc | lcc | (0, 6, 3) | entireAtmosphere | - | 12 |"
   ]
  },
  {
   "cell_type": "code",
   "execution_count": null,
   "id": "8",
   "metadata": {},
   "outputs": [],
   "source": [
    "field = load_field_from_file(\n",
    "    meso_grib2_orig_file_path,\n",
    "    parameter=\"LCDC\",\n",
    ")\n",
    "assert field.attrs[\"GRIB_count\"] == 12"
   ]
  },
  {
   "cell_type": "code",
   "execution_count": null,
   "id": "9",
   "metadata": {},
   "outputs": [],
   "source": [
    "field = load_field_from_file(\n",
    "    meso_grib2_orig_file_path,\n",
    "    parameter=\"lcc\",\n",
    ")\n",
    "assert field.attrs[\"GRIB_count\"] == 12"
   ]
  },
  {
   "cell_type": "code",
   "execution_count": null,
   "id": "10",
   "metadata": {},
   "outputs": [],
   "source": [
    "field = load_field_from_file(\n",
    "    meso_grib2_orig_file_path,\n",
    "    parameter={\n",
    "        \"discipline\": 0,\n",
    "        \"parameterCategory\": 6,\n",
    "        \"parameterNumber\": 3,\n",
    "    },\n",
    "    level_type=\"entireAtmosphere\",\n",
    ")\n",
    "assert field.attrs[\"GRIB_count\"] == 12"
   ]
  },
  {
   "cell_type": "markdown",
   "id": "11",
   "metadata": {},
   "source": [
    "## 中云量\n",
    "\n",
    "| 要素名 | wgrib2 | eccodes | cemc | GRIB Key | 层次类型 | 层次 | 编号 |\n",
    "|--------|---------|--------|------|----------|--------|------|------|\n",
    "| 中云量 | MCDC | mcc | mcc | (0, 6, 4) | entireAtmosphere | - | 13 |"
   ]
  },
  {
   "cell_type": "code",
   "execution_count": null,
   "id": "12",
   "metadata": {},
   "outputs": [],
   "source": [
    "field = load_field_from_file(\n",
    "    meso_grib2_orig_file_path,\n",
    "    parameter=\"MCDC\",\n",
    ")\n",
    "assert field.attrs[\"GRIB_count\"] == 13"
   ]
  },
  {
   "cell_type": "code",
   "execution_count": null,
   "id": "13",
   "metadata": {},
   "outputs": [],
   "source": [
    "field = load_field_from_file(\n",
    "    meso_grib2_orig_file_path,\n",
    "    parameter=\"mcc\",\n",
    ")\n",
    "assert field.attrs[\"GRIB_count\"] == 13"
   ]
  },
  {
   "cell_type": "code",
   "execution_count": null,
   "id": "14",
   "metadata": {},
   "outputs": [],
   "source": [
    "field = load_field_from_file(\n",
    "    meso_grib2_orig_file_path,\n",
    "    parameter={\n",
    "        \"discipline\": 0,\n",
    "        \"parameterCategory\": 6,\n",
    "        \"parameterNumber\": 4,\n",
    "    },\n",
    "    level_type=\"entireAtmosphere\",\n",
    ")\n",
    "assert field.attrs[\"GRIB_count\"] == 13"
   ]
  },
  {
   "cell_type": "markdown",
   "id": "15",
   "metadata": {},
   "source": [
    "## 高云量\n",
    "\n",
    "| 要素名 | wgrib2 | eccodes | cemc | GRIB Key | 层次类型 | 层次 | 编号 |\n",
    "|--------|---------|--------|------|----------|--------|------|-------|\n",
    "| 高云量 | HCDC | hcc | hcc | (0, 6, 5) | entireAtmosphere | - | 14 |"
   ]
  },
  {
   "cell_type": "code",
   "execution_count": null,
   "id": "16",
   "metadata": {},
   "outputs": [],
   "source": [
    "field = load_field_from_file(\n",
    "    meso_grib2_orig_file_path,\n",
    "    parameter=\"HCDC\",\n",
    ")\n",
    "assert field.attrs[\"GRIB_count\"] == 14"
   ]
  },
  {
   "cell_type": "code",
   "execution_count": null,
   "id": "17",
   "metadata": {},
   "outputs": [],
   "source": [
    "field = load_field_from_file(\n",
    "    meso_grib2_orig_file_path,\n",
    "    parameter=\"hcc\",\n",
    ")\n",
    "assert field.attrs[\"GRIB_count\"] == 14"
   ]
  },
  {
   "cell_type": "code",
   "execution_count": null,
   "id": "18",
   "metadata": {},
   "outputs": [],
   "source": [
    "field = load_field_from_file(\n",
    "    meso_grib2_orig_file_path,\n",
    "    parameter={\n",
    "        \"discipline\": 0,\n",
    "        \"parameterCategory\": 6,\n",
    "        \"parameterNumber\": 5,\n",
    "    },\n",
    "    level_type=\"entireAtmosphere\",\n",
    ")\n",
    "assert field.attrs[\"GRIB_count\"] == 14"
   ]
  },
  {
   "cell_type": "markdown",
   "id": "19",
   "metadata": {},
   "source": [
    "## 大气总柱水汽含量\n",
    "\n",
    "| 要素名 | wgrib2 | eccodes | cemc | GRIB Key | 层次类型 | 层次 | 编号 |\n",
    "|--------|---------|--------|------|----------|--------|------|-----|\n",
    "| 大气总柱水汽含量 | TCIWV | - | tvw | (0, 1, 64) | atmosphere | - | 15 |"
   ]
  },
  {
   "cell_type": "code",
   "execution_count": null,
   "id": "20",
   "metadata": {},
   "outputs": [],
   "source": [
    "field = load_field_from_file(\n",
    "    meso_grib2_orig_file_path,\n",
    "    parameter=\"TCIWV\",\n",
    ")\n",
    "assert field.attrs[\"GRIB_count\"] == 15"
   ]
  },
  {
   "cell_type": "code",
   "execution_count": null,
   "id": "21",
   "metadata": {},
   "outputs": [],
   "source": [
    "field = load_field_from_file(\n",
    "    meso_grib2_orig_file_path,\n",
    "    parameter=\"tvw\",\n",
    ")\n",
    "assert field.attrs[\"GRIB_count\"] == 15"
   ]
  },
  {
   "cell_type": "code",
   "execution_count": null,
   "id": "22",
   "metadata": {},
   "outputs": [],
   "source": [
    "field = load_field_from_file(\n",
    "    meso_grib2_orig_file_path,\n",
    "    parameter={\n",
    "        \"discipline\": 0,\n",
    "        \"parameterCategory\": 1,\n",
    "        \"parameterNumber\": 64,\n",
    "    },\n",
    "    level_type=\"atmosphere\",\n",
    ")\n",
    "assert field.attrs[\"GRIB_count\"] == 15"
   ]
  },
  {
   "cell_type": "markdown",
   "id": "23",
   "metadata": {},
   "source": [
    "## 大气总柱云冰含量\n",
    "\n",
    "| 要素名 | wgrib2 | eccodes | cemc | GRIB Key | 层次类型 | 层次 | 编号 |\n",
    "|--------|---------|--------|------|----------|--------|------|------|\n",
    "| 大气总柱云冰含量 | TCOLI | - | tiw | (0, 1, 70) | atmosphere | - | 16 |"
   ]
  },
  {
   "cell_type": "code",
   "execution_count": null,
   "id": "24",
   "metadata": {},
   "outputs": [],
   "source": [
    "field = load_field_from_file(\n",
    "    meso_grib2_orig_file_path,\n",
    "    parameter=\"TCOLI\",\n",
    ")\n",
    "assert field.attrs[\"GRIB_count\"] == 16"
   ]
  },
  {
   "cell_type": "code",
   "execution_count": null,
   "id": "25",
   "metadata": {},
   "outputs": [],
   "source": [
    "field = load_field_from_file(\n",
    "    meso_grib2_orig_file_path,\n",
    "    parameter=\"tiw\",\n",
    ")\n",
    "assert field.attrs[\"GRIB_count\"] == 16"
   ]
  },
  {
   "cell_type": "code",
   "execution_count": null,
   "id": "26",
   "metadata": {},
   "outputs": [],
   "source": [
    "field = load_field_from_file(\n",
    "    meso_grib2_orig_file_path,\n",
    "    parameter={\n",
    "        \"discipline\": 0,\n",
    "        \"parameterCategory\": 1,\n",
    "        \"parameterNumber\": 70,\n",
    "    },\n",
    "    level_type=\"atmosphere\",\n",
    ")\n",
    "assert field.attrs[\"GRIB_count\"] == 16"
   ]
  },
  {
   "cell_type": "markdown",
   "id": "27",
   "metadata": {},
   "source": [
    "## 边界层高度\n",
    "\n",
    "| 要素名 | wgrib2 | eccodes | cemc | GRIB Key | 层次类型 | 层次 | 编号 |\n",
    "|--------|---------|--------|------|----------|--------|------|------|\n",
    "| 边界层高度 | HPBL | blh | pblh | (0, 3, 18)  | surface | - | 17 |"
   ]
  },
  {
   "cell_type": "code",
   "execution_count": null,
   "id": "28",
   "metadata": {},
   "outputs": [],
   "source": [
    "field = load_field_from_file(\n",
    "    meso_grib2_orig_file_path,\n",
    "    parameter=\"HPBL\",\n",
    ")\n",
    "assert field.attrs[\"GRIB_count\"] == 17"
   ]
  },
  {
   "cell_type": "code",
   "execution_count": null,
   "id": "29",
   "metadata": {},
   "outputs": [],
   "source": [
    "field = load_field_from_file(\n",
    "    meso_grib2_orig_file_path,\n",
    "    parameter=\"blh\",\n",
    ")\n",
    "assert field.attrs[\"GRIB_count\"] == 17"
   ]
  },
  {
   "cell_type": "code",
   "execution_count": null,
   "id": "30",
   "metadata": {},
   "outputs": [],
   "source": [
    "field = load_field_from_file(\n",
    "    meso_grib2_orig_file_path,\n",
    "    parameter=\"pblh\",\n",
    ")\n",
    "assert field.attrs[\"GRIB_count\"] == 17"
   ]
  },
  {
   "cell_type": "code",
   "execution_count": null,
   "id": "31",
   "metadata": {},
   "outputs": [],
   "source": [
    "field = load_field_from_file(\n",
    "    meso_grib2_orig_file_path,\n",
    "    parameter={\n",
    "        \"discipline\": 0,\n",
    "        \"parameterCategory\": 3,\n",
    "        \"parameterNumber\": 18,\n",
    "    },\n",
    "    level_type=\"surface\",\n",
    ")\n",
    "assert field.attrs[\"GRIB_count\"] == 17"
   ]
  },
  {
   "cell_type": "markdown",
   "id": "32",
   "metadata": {},
   "source": [
    "## 雷达组合反射率\n",
    "\n",
    "| 要素名 | wgrib2 | eccodes | cemc | GRIB Key | 层次类型 | 层次 | 编号 |\n",
    "|--------|---------|--------|------|----------|--------|------|-------|\n",
    "| 雷达组合反射率 | - | - | cdbz | (0, 16, 224) | surface | - | 18 |"
   ]
  },
  {
   "cell_type": "code",
   "execution_count": null,
   "id": "33",
   "metadata": {},
   "outputs": [],
   "source": [
    "field = load_field_from_file(\n",
    "    meso_grib2_orig_file_path,\n",
    "    parameter=\"cdbz\",\n",
    ")\n",
    "assert field.attrs[\"GRIB_count\"] == 18"
   ]
  },
  {
   "cell_type": "code",
   "execution_count": null,
   "id": "34",
   "metadata": {},
   "outputs": [],
   "source": [
    "field = load_field_from_file(\n",
    "    meso_grib2_orig_file_path,\n",
    "    parameter={\n",
    "        \"discipline\": 0,\n",
    "        \"parameterCategory\": 16,\n",
    "        \"parameterNumber\": 224,\n",
    "    },\n",
    "    level_type=\"surface\"\n",
    ")\n",
    "assert field.attrs[\"GRIB_count\"] == 18"
   ]
  },
  {
   "cell_type": "markdown",
   "id": "35",
   "metadata": {},
   "source": [
    "## 输出间隔内最大垂直速度\n",
    "\n",
    "| 要素名 | wgrib2 | eccodes | cemc | GRIB Key | 层次类型 | 层次 | 编号 |\n",
    "|--------|---------|--------|------|----------|--------|------|-------|\n",
    "| 输出间隔内最大垂直速度 | DZDT | wz | w, wmax#1 | (0, 2, 9) | pl | 1000 | 19 |\n",
    "\n",
    "```{note}\n",
    "检索输出间隔内最大垂直速度需要增加 `stepType=\"max\"` 条件，与 1000hPa 垂直速度 (编号133) 区分。\n",
    "```"
   ]
  },
  {
   "cell_type": "code",
   "execution_count": null,
   "id": "36",
   "metadata": {},
   "outputs": [],
   "source": [
    "field = load_field_from_file(\n",
    "    meso_grib2_orig_file_path,\n",
    "    parameter=\"DZDT\",\n",
    "    level_type=\"pl\",\n",
    "    level=1000,\n",
    "    stepType=\"max\",\n",
    ")\n",
    "assert field.attrs[\"GRIB_count\"] == 19"
   ]
  },
  {
   "cell_type": "code",
   "execution_count": null,
   "id": "37",
   "metadata": {},
   "outputs": [],
   "source": [
    "field = load_field_from_file(\n",
    "    meso_grib2_orig_file_path,\n",
    "    parameter=\"wz\",\n",
    "    level_type=\"pl\",\n",
    "    level=1000,\n",
    "    stepType=\"max\",\n",
    ")\n",
    "assert field.attrs[\"GRIB_count\"] == 19"
   ]
  },
  {
   "cell_type": "code",
   "execution_count": null,
   "id": "38",
   "metadata": {},
   "outputs": [],
   "source": [
    "field = load_field_from_file(\n",
    "    meso_grib2_orig_file_path,\n",
    "    parameter=\"w\",\n",
    "    level_type=\"pl\",\n",
    "    level=1000,\n",
    "    stepType=\"max\",\n",
    ")\n",
    "assert field.attrs[\"GRIB_count\"] == 19"
   ]
  },
  {
   "cell_type": "code",
   "execution_count": null,
   "id": "39",
   "metadata": {},
   "outputs": [],
   "source": [
    "field = load_field_from_file(\n",
    "    meso_grib2_orig_file_path,\n",
    "    parameter=\"wmax#1\",\n",
    ")\n",
    "assert field.attrs[\"GRIB_count\"] == 19"
   ]
  },
  {
   "cell_type": "markdown",
   "id": "40",
   "metadata": {},
   "source": [
    "## 输出间隔内最大10mU风\n",
    "\n",
    "\n",
    "| 要素名 | wgrib2 | eccodes | cemc | GRIB Key | 层次类型 | 层次 | 编号 |\n",
    "|--------|---------|--------|------|----------|--------|------|------|\n",
    "| 输出间隔内最大10mU风 | UGRD | max_10u | u10mmax#1 | (0, 2, 2) | heightAboveGround | 10 | 20 |"
   ]
  },
  {
   "cell_type": "code",
   "execution_count": null,
   "id": "41",
   "metadata": {},
   "outputs": [],
   "source": [
    "field = load_field_from_file(\n",
    "    meso_grib2_orig_file_path,\n",
    "    parameter=\"UGRD\",\n",
    "    level_type=\"heightAboveGround\",\n",
    "    level=10,\n",
    "    stepType=\"max\",\n",
    ")\n",
    "assert field.attrs[\"GRIB_count\"] == 20"
   ]
  },
  {
   "cell_type": "code",
   "execution_count": null,
   "id": "42",
   "metadata": {},
   "outputs": [],
   "source": [
    "field = load_field_from_file(\n",
    "    meso_grib2_orig_file_path,\n",
    "    parameter=\"max_10u\",\n",
    ")\n",
    "assert field.attrs[\"GRIB_count\"] == 20"
   ]
  },
  {
   "cell_type": "code",
   "execution_count": null,
   "id": "43",
   "metadata": {},
   "outputs": [],
   "source": [
    "field = load_field_from_file(\n",
    "    meso_grib2_orig_file_path,\n",
    "    parameter=\"u10mmax#1\",\n",
    ")\n",
    "assert field.attrs[\"GRIB_count\"] == 20"
   ]
  },
  {
   "cell_type": "code",
   "execution_count": null,
   "id": "44",
   "metadata": {},
   "outputs": [],
   "source": [
    "field = load_field_from_file(\n",
    "    meso_grib2_orig_file_path,\n",
    "    parameter={\n",
    "        \"discipline\": 0,\n",
    "        \"parameterCategory\": 2,\n",
    "        \"parameterNumber\": 2,\n",
    "    },\n",
    "    level_type=\"heightAboveGround\",\n",
    "    level=10,\n",
    "    stepType=\"max\",\n",
    ")\n",
    "assert field.attrs[\"GRIB_count\"] == 20"
   ]
  },
  {
   "cell_type": "markdown",
   "id": "45",
   "metadata": {},
   "source": [
    "## 输出间隔内最大10mV风\n",
    "\n",
    "\n",
    "| 要素名 | wgrib2 | eccodes | cemc | GRIB Key | 层次类型 | 层次 | 编号 |\n",
    "|--------|---------|--------|------|----------|--------|------|------|\n",
    "| 输出间隔内最大10mV风 | VGRD | max_10v | v10mmax#1 | (0, 2, 3) | heightAboveGround | 10 | 21 |"
   ]
  },
  {
   "cell_type": "code",
   "execution_count": null,
   "id": "46",
   "metadata": {},
   "outputs": [],
   "source": [
    "field = load_field_from_file(\n",
    "    meso_grib2_orig_file_path,\n",
    "    parameter=\"VGRD\",\n",
    "    level_type=\"heightAboveGround\",\n",
    "    level=10,\n",
    "    stepType=\"max\",\n",
    ")\n",
    "assert field.attrs[\"GRIB_count\"] == 21"
   ]
  },
  {
   "cell_type": "code",
   "execution_count": null,
   "id": "47",
   "metadata": {},
   "outputs": [],
   "source": [
    "field = load_field_from_file(\n",
    "    meso_grib2_orig_file_path,\n",
    "    parameter=\"max_10v\",\n",
    ")\n",
    "assert field.attrs[\"GRIB_count\"] == 21"
   ]
  },
  {
   "cell_type": "code",
   "execution_count": null,
   "id": "48",
   "metadata": {},
   "outputs": [],
   "source": [
    "field = load_field_from_file(\n",
    "    meso_grib2_orig_file_path,\n",
    "    parameter=\"v10mmax#1\",\n",
    ")\n",
    "assert field.attrs[\"GRIB_count\"] == 21"
   ]
  },
  {
   "cell_type": "code",
   "execution_count": null,
   "id": "49",
   "metadata": {},
   "outputs": [],
   "source": [
    "field = load_field_from_file(\n",
    "    meso_grib2_orig_file_path,\n",
    "    parameter={\n",
    "        \"discipline\": 0,\n",
    "        \"parameterCategory\": 2,\n",
    "        \"parameterNumber\": 3,\n",
    "    },\n",
    "    level_type=\"heightAboveGround\",\n",
    "    level=10,\n",
    "    stepType=\"max\",\n",
    ")\n",
    "assert field.attrs[\"GRIB_count\"] == 21"
   ]
  }
 ],
 "metadata": {
  "kernelspec": {
   "display_name": "py312-cedar-dev",
   "language": "python",
   "name": "python3"
  },
  "language_info": {
   "codemirror_mode": {
    "name": "ipython",
    "version": 3
   },
   "file_extension": ".py",
   "mimetype": "text/x-python",
   "name": "python",
   "nbconvert_exporter": "python",
   "pygments_lexer": "ipython3",
   "version": "3.12.11"
  }
 },
 "nbformat": 4,
 "nbformat_minor": 5
}
