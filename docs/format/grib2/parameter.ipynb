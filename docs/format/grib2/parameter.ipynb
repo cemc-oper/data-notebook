{
 "cells": [
  {
   "cell_type": "markdown",
   "id": "0",
   "metadata": {},
   "source": [
    "# 要素名"
   ]
  },
  {
   "cell_type": "markdown",
   "id": "1",
   "metadata": {},
   "source": [
    "GRIB2 要素由三个数字 (GRIB Key) 确定：\n",
    "\n",
    "- discipline\n",
    "- parameterCategory\n",
    "- parameterNumber\n",
    "\n",
    "例如\n",
    "\n",
    "| name | discipline | parameterCategory | parameterNumber |\n",
    "|------|------------|-------------------|-----------------|\n",
    "| temperature | 0          | 0                 | 0        |\n",
    "| geopotential height | 0   | 3 | 5 |\n",
    "| u component of wind | 0 | 2 | 2 |\n",
    "| v component of wind | 0 | 2 | 3 |\n",
    "\n",
    "更多要素编码可以参考 ECMWF 的 [Parameter Database](https://codes.ecmwf.int/grib/param-db/)。\n"
   ]
  },
  {
   "cell_type": "markdown",
   "id": "2",
   "metadata": {},
   "source": [
    "`load_field_from_file()` 函数中的 `parameter` 参数支持字符串和字典两种格式。"
   ]
  },
  {
   "cell_type": "code",
   "execution_count": null,
   "id": "3",
   "metadata": {},
   "outputs": [],
   "source": [
    "import numpy as np\n",
    "import pandas as pd\n",
    "import xarray as xr\n",
    "\n",
    "from reki.data_finder import find_local_file\n",
    "from reki.format.grib.eccodes import load_field_from_file"
   ]
  },
  {
   "cell_type": "code",
   "execution_count": null,
   "id": "4",
   "metadata": {},
   "outputs": [],
   "source": [
    "start_time = pd.Timestamp.utcnow().floor(freq=\"D\") - pd.Timedelta(days=2)\n",
    "start_time_label = start_time.strftime(\"%Y%m%d%H\")\n",
    "forecast_time_label = \"24h\"\n",
    "forecast_time = pd.to_timedelta(forecast_time_label)\n",
    "\n",
    "gfs_grib2_orig_file_path = find_local_file(\n",
    "    \"cma_gfs_gmf/grib2/orig\",\n",
    "    start_time=start_time,\n",
    "    forecast_time=forecast_time,\n",
    ")\n",
    "gfs_grib2_orig_file_path"
   ]
  },
  {
   "cell_type": "markdown",
   "id": "5",
   "metadata": {},
   "source": [
    "## 字符串\n",
    "\n",
    "`parameter` 参数可以指定作为要素场名的字符串，包括以下几种类型：\n",
    "\n",
    "- ecCodes 支持的 `shortName` 要素名\n",
    "- 内置的 WGRIB2 要素名\n",
    "- 内置的 CEMC 要素名"
   ]
  },
  {
   "cell_type": "markdown",
   "id": "6",
   "metadata": {},
   "source": [
    "### ecCodes shortName\n",
    "\n",
    "\n",
    "GRIB2 是表格驱动的数据格式，数据文件中保存的元信息通常为数字形式，需要从数据文件之外的表格中查找数字对应的含义。\n",
    "ecCodes 内置了一系列要素名，即 shortName，可以用来表示特定的要素场名称。\n",
    "\n",
    "例如下面代码使用 `grib_ls` 命令列出 GRIB2 文件中的所有要素场信息，其中 `shortName` 可以作为 `parameter` 参数使用。"
   ]
  },
  {
   "cell_type": "code",
   "execution_count": null,
   "id": "7",
   "metadata": {},
   "outputs": [],
   "source": [
    "from IPython.utils.capture import capture_output\n",
    "\n",
    "with capture_output() as captured:\n",
    "    !module load eccodes/2.29.0/intel && grib_ls -P count \"{gfs_grib2_orig_file_path}\" 2>/dev/null | head -n 22\n",
    "\n",
    "print(f\"{captured.stdout}\")"
   ]
  },
  {
   "cell_type": "markdown",
   "id": "8",
   "metadata": {},
   "source": [
    "```{note}\n",
    "`unknown` 表示 ecCodes 无法识别该要素场，无法直接使用 shortName 来检索要素。\n",
    "```\n",
    "\n",
    "使用 ecCodes 的 shortName 可以用来检索要素场："
   ]
  },
  {
   "cell_type": "code",
   "execution_count": null,
   "id": "9",
   "metadata": {},
   "outputs": [],
   "source": [
    "field = load_field_from_file(\n",
    "    gfs_grib2_orig_file_path,\n",
    "    parameter=\"acpcp\",\n",
    ")\n",
    "field.plot()"
   ]
  },
  {
   "cell_type": "code",
   "execution_count": null,
   "id": "10",
   "metadata": {},
   "outputs": [],
   "source": [
    "field = load_field_from_file(\n",
    "    gfs_grib2_orig_file_path,\n",
    "    parameter=\"2t\",\n",
    ") - 273.15\n",
    "field.plot()\n"
   ]
  },
  {
   "cell_type": "markdown",
   "id": "11",
   "metadata": {},
   "source": [
    "```{note}\n",
    "ecCodes 的 shortName 和 ecCodes 本身的版本有关系，不同版本的 shortName 可能不同，使用时请额外注意。\n",
    "```"
   ]
  },
  {
   "cell_type": "markdown",
   "id": "12",
   "metadata": {},
   "source": [
    "### WGRIB2\n",
    "\n",
    "reki 也内置了 WGRIB2 使用的要素表格，支持 WGRIB2 要素名。\n",
    "\n",
    "wgrib2 命令会打印 GRIB2 文件中的要素清单。"
   ]
  },
  {
   "cell_type": "code",
   "execution_count": null,
   "id": "13",
   "metadata": {},
   "outputs": [],
   "source": [
    "with capture_output() as captured:\n",
    "    !module load wgrib2/3.1.1/intel && wgrib2 \"{gfs_grib2_orig_file_path}\" 2>/dev/null | head -n 20\n",
    "\n",
    "print(f\"{captured.stdout}\")"
   ]
  },
  {
   "cell_type": "markdown",
   "id": "14",
   "metadata": {},
   "source": [
    "使用 WGRIB2 要素名称加载要素场："
   ]
  },
  {
   "cell_type": "code",
   "execution_count": null,
   "id": "15",
   "metadata": {},
   "outputs": [],
   "source": [
    "field = load_field_from_file(\n",
    "    gfs_grib2_orig_file_path,\n",
    "    parameter=\"TMP\",\n",
    "    level_type=\"heightAboveGround\",\n",
    "    level=2,\n",
    ") - 273.15\n",
    "field.plot()"
   ]
  },
  {
   "cell_type": "code",
   "execution_count": null,
   "id": "16",
   "metadata": {},
   "outputs": [],
   "source": [
    "field = load_field_from_file(\n",
    "    gfs_grib2_orig_file_path,\n",
    "    parameter=\"APCP\"\n",
    ")\n",
    "field.plot()"
   ]
  },
  {
   "cell_type": "markdown",
   "id": "17",
   "metadata": {},
   "source": [
    "### CEMC要素清单\n",
    "\n",
    "reki 内置了 CEMC 的要素清单，支持 CEMC 自定义的变量名。"
   ]
  },
  {
   "cell_type": "code",
   "execution_count": null,
   "id": "18",
   "metadata": {},
   "outputs": [],
   "source": [
    "from reki.format.grib.config import CEMC_PARAM_TABLE\n",
    "\n",
    "CEMC_PARAM_TABLE.head(n=10)"
   ]
  },
  {
   "cell_type": "markdown",
   "id": "19",
   "metadata": {},
   "source": [
    "使用 CEMC 要素名可以方便地加载一些 CEMC 定义的变量。\n",
    "下面代码加载辐射亮温（红外通道）要素场："
   ]
  },
  {
   "cell_type": "code",
   "execution_count": null,
   "id": "20",
   "metadata": {},
   "outputs": [],
   "source": [
    "field = load_field_from_file(\n",
    "    gfs_grib2_orig_file_path,\n",
    "    parameter=\"bti\"\n",
    ")\n",
    "field.plot()"
   ]
  },
  {
   "cell_type": "markdown",
   "id": "21",
   "metadata": {},
   "source": [
    "加载 2 米温度场"
   ]
  },
  {
   "cell_type": "code",
   "execution_count": null,
   "id": "22",
   "metadata": {},
   "outputs": [],
   "source": [
    "field = load_field_from_file(\n",
    "    gfs_grib2_orig_file_path,\n",
    "    parameter=\"t2m\"\n",
    ") - 273.15\n",
    "field.plot()"
   ]
  },
  {
   "cell_type": "markdown",
   "id": "23",
   "metadata": {},
   "source": [
    "加载 0-3km 垂直风切变"
   ]
  },
  {
   "cell_type": "code",
   "execution_count": null,
   "id": "24",
   "metadata": {},
   "outputs": [],
   "source": [
    "field = load_field_from_file(\n",
    "    gfs_grib2_orig_file_path,\n",
    "    parameter=\"shr(0-3000)\"\n",
    ")\n",
    "field.plot()"
   ]
  },
  {
   "cell_type": "markdown",
   "id": "25",
   "metadata": {},
   "source": [
    "## 字典格式\n",
    "\n",
    "parameter 参数可以直接设置字典格式的 GRIB Key。\n",
    "\n",
    "比如雷达反射率的编码如下：\n",
    "\n",
    "```\n",
    "discipline = 0\n",
    "parameterCategory = 16\n",
    "parameterNumber = 225\n",
    "```"
   ]
  },
  {
   "cell_type": "code",
   "execution_count": null,
   "id": "26",
   "metadata": {},
   "outputs": [],
   "source": [
    "field = load_field_from_file(\n",
    "    gfs_grib2_orig_file_path,\n",
    "    parameter={\n",
    "        \"discipline\": 0,\n",
    "        \"parameterCategory\": 16,\n",
    "        \"parameterNumber\": 225,\n",
    "    },\n",
    "    level_type=\"pl\",\n",
    "    level=850\n",
    ")\n",
    "field.plot()"
   ]
  },
  {
   "cell_type": "markdown",
   "id": "27",
   "metadata": {},
   "source": [
    "```{note}\n",
    "理论上 `parameter` 参数中可以设置任意 GRIB Key，不过建议将不同 GRIB Key 分散到不同的参数中。\n",
    "`load_field_from_file` 函数也支持任意 GRIB key 作为关键字参数。\n",
    "```"
   ]
  },
  {
   "cell_type": "code",
   "execution_count": null,
   "id": "28",
   "metadata": {},
   "outputs": [],
   "source": []
  }
 ],
 "metadata": {
  "kernelspec": {
   "display_name": "Python 3",
   "language": "python",
   "name": "python3"
  },
  "language_info": {
   "codemirror_mode": {
    "name": "ipython",
    "version": 3
   },
   "file_extension": ".py",
   "mimetype": "text/x-python",
   "name": "python",
   "nbconvert_exporter": "python",
   "pygments_lexer": "ipython3",
   "version": "3.12.11"
  }
 },
 "nbformat": 4,
 "nbformat_minor": 5
}
