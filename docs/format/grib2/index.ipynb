{
 "cells": [
  {
   "cell_type": "markdown",
   "id": "0",
   "metadata": {},
   "source": [
    "# GRIB2"
   ]
  },
  {
   "cell_type": "markdown",
   "id": "1",
   "metadata": {},
   "source": [
    "CEMC 数值天气预报业务系统 (简称 NWP 业务系统) 发布 GRIB2 格式的基础数据产品。\n",
    "reki 调用 ECMWF 开发的 ecCodes 和 cfgrib 加载 GRIB2 文件中的要素场。"
   ]
  },
  {
   "cell_type": "markdown",
   "id": "2",
   "metadata": {},
   "source": [
    "首先加载需要使用的模块"
   ]
  },
  {
   "cell_type": "code",
   "execution_count": null,
   "id": "3",
   "metadata": {},
   "outputs": [],
   "source": [
    "import numpy as np\n",
    "import pandas as pd\n",
    "import xarray as xr\n",
    "\n",
    "from reki.format.grib.eccodes import load_field_from_file\n",
    "from reki.data_finder import find_local_file"
   ]
  },
  {
   "cell_type": "markdown",
   "id": "4",
   "metadata": {},
   "source": [
    "查找示例 GRIB2 文件路径"
   ]
  },
  {
   "cell_type": "code",
   "execution_count": null,
   "id": "5",
   "metadata": {},
   "outputs": [],
   "source": [
    "start_time = pd.Timestamp.utcnow().floor(freq=\"D\") - pd.Timedelta(days=2)\n",
    "start_time_label = start_time.strftime(\"%Y%m%d%H\")\n",
    "forecast_time_label = \"24h\"\n",
    "forecast_time = pd.to_timedelta(forecast_time_label)\n",
    "\n",
    "gfs_grib2_orig_file_path = find_local_file(\n",
    "    \"cma_gfs_gmf/grib2/orig\",\n",
    "    start_time=start_time,\n",
    "    forecast_time=forecast_time,\n",
    "    file_type=\"grib2\",\n",
    "    file_format=\"orig\",\n",
    ")\n",
    "gfs_grib2_orig_file_path"
   ]
  },
  {
   "cell_type": "markdown",
   "id": "6",
   "metadata": {},
   "source": [
    "## 基础用法\n",
    "\n",
    "`reki.format.grib.eccodes.load_field_from_file()` 函数从本地 GRIB 文件中加载要素场。\n",
    "该函数常用参数如下：\n",
    "\n",
    "- `file_path`: GRIB 文件路径\n",
    "- `parameter`: 要素名\n",
    "- `level_type`: 层次类型\n",
    "- `level`: 层次值\n",
    "\n",
    "下面代码加载 850hPa 温度场。"
   ]
  },
  {
   "cell_type": "code",
   "execution_count": null,
   "id": "7",
   "metadata": {},
   "outputs": [],
   "source": [
    "field = load_field_from_file(\n",
    "    gfs_grib2_orig_file_path,\n",
    "    parameter=\"t\",\n",
    "    level_type=\"pl\",\n",
    "    level=850\n",
    ")\n",
    "field"
   ]
  },
  {
   "cell_type": "markdown",
   "id": "8",
   "metadata": {},
   "source": [
    "## 详细说明\n",
    "\n",
    "请浏览以下章节：\n",
    "\n",
    "- [要素名](parameter.ipynb)\n",
    "- [层次](level.ipynb)\n"
   ]
  }
 ],
 "metadata": {
  "kernelspec": {
   "display_name": "Python 3",
   "language": "python",
   "name": "python3"
  },
  "language_info": {
   "codemirror_mode": {
    "name": "ipython",
    "version": 3
   },
   "file_extension": ".py",
   "mimetype": "text/x-python",
   "name": "python",
   "nbconvert_exporter": "python",
   "pygments_lexer": "ipython3",
   "version": "3.12.6"
  }
 },
 "nbformat": 4,
 "nbformat_minor": 5
}
