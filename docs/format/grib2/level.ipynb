{
 "cells": [
  {
   "cell_type": "markdown",
   "id": "0",
   "metadata": {},
   "source": [
    "# 层次"
   ]
  },
  {
   "cell_type": "markdown",
   "id": "1",
   "metadata": {},
   "source": [
    "GRIB2 要素场的层次信息与使用的产品模板 (productDefinitionTemplateNumber) 有关。\n",
    "\n",
    "CEMC 模式 GRIB2 产品大部分要素均使用产品模板 4.0 (瞬时要素) 和 4.8 (统计要素)。\n",
    "两种模板都支持设置两个层次，每个层次可以设置层次类型和层次值。相关 GRIB KEY 如下\n",
    "\n",
    "| GRIB KEY | 描述 |\n",
    "| --- | --- |\n",
    "| typeOfFirstFixedSurface | 层次类型 |\n",
    "| scaleFactorOfFirstFixedSurface | 层次值 |\n",
    "| scaledValueOfFirstFixedSurface | 层次值 |\n",
    "| typeOfSecondFixedSurface | 层次类型 |\n",
    "| scaleFactorOfSecondFixedSurface | 层次值 |\n",
    "| scaledValueOfSecondFixedSurface | 层次值 |\n",
    "\n",
    "计算层次值的公式如下：\n",
    "\n",
    "$$\n",
    "level = 10^{-f} \\cdot v\n",
    "$$\n",
    "\n",
    "对于第一个层次来说，`f` 是 `scaleFactorOfFirstFixedSurface`，`v` 是 `scaledValueOfFirstFixedSurface`。\n",
    "\n",
    "ecCodes 额外提供 `typeOfLevel` 和 `level` 两个 GRIB Key 表示层次类型和层次值，支持大部分要素场，但不支持某些使用两个层次的要素场。\n",
    "\n",
    "下面介绍 reki 支持的几种检索层次的方法。"
   ]
  },
  {
   "cell_type": "code",
   "execution_count": null,
   "id": "2",
   "metadata": {},
   "outputs": [],
   "source": [
    "import numpy as np\n",
    "import pandas as pd\n",
    "import xarray as xr\n",
    "\n",
    "from reki.data_finder import find_local_file\n",
    "from reki.format.grib.eccodes import load_field_from_file"
   ]
  },
  {
   "cell_type": "code",
   "execution_count": null,
   "id": "3",
   "metadata": {},
   "outputs": [],
   "source": [
    "start_time = pd.Timestamp.utcnow().floor(freq=\"D\") - pd.Timedelta(days=2)\n",
    "start_time_label = start_time.strftime(\"%Y%m%d%H\")\n",
    "forecast_time_label = \"24h\"\n",
    "forecast_time = pd.to_timedelta(forecast_time_label)\n",
    "\n",
    "gfs_grib2_orig_file_path = find_local_file(\n",
    "    \"cma_gfs_gmf/grib2/orig\",\n",
    "    start_time=start_time,\n",
    "    forecast_time=forecast_time,\n",
    ")\n",
    "gfs_grib2_orig_file_path"
   ]
  },
  {
   "cell_type": "code",
   "execution_count": null,
   "id": "4",
   "metadata": {},
   "outputs": [],
   "source": [
    "gfs_grib2_modelvar_file_path = find_local_file(\n",
    "    \"cma_gfs_gmf/grib2/modelvar\",\n",
    "    start_time=start_time,\n",
    "    forecast_time=forecast_time,\n",
    ")\n",
    "gfs_grib2_modelvar_file_path"
   ]
  },
  {
   "cell_type": "markdown",
   "id": "5",
   "metadata": {},
   "source": [
    "## ecCodes的typeOfLevel和level\n",
    "\n",
    "CMA-GFS 的 GRIB2 文件所有要素使用的 typeOfLevel 如下："
   ]
  },
  {
   "cell_type": "code",
   "execution_count": null,
   "id": "6",
   "metadata": {},
   "outputs": [],
   "source": [
    "from IPython.utils.capture import capture_output\n",
    "\n",
    "with capture_output() as captured:\n",
    "    !module load eccodes/2.29.0/intel && grib_ls -p typeOfLevel \"{gfs_grib2_orig_file_path}\" | tail -n +3 | head -n -3 | sort | uniq -c\n",
    "\n",
    "print(f\"{captured.stdout}\")"
   ]
  },
  {
   "cell_type": "markdown",
   "id": "7",
   "metadata": {},
   "source": [
    "使用 typeOfLevel 和对应的 level 值可以加载要素场："
   ]
  },
  {
   "cell_type": "code",
   "execution_count": null,
   "id": "8",
   "metadata": {},
   "outputs": [],
   "source": [
    "field = load_field_from_file(\n",
    "    gfs_grib2_orig_file_path,\n",
    "    parameter=\"u\",\n",
    "    level_type=\"heightAboveGround\",\n",
    "    level=100,\n",
    ")\n",
    "field"
   ]
  },
  {
   "cell_type": "code",
   "execution_count": null,
   "id": "9",
   "metadata": {},
   "outputs": [],
   "source": [
    "field = load_field_from_file(\n",
    "    gfs_grib2_orig_file_path,\n",
    "    parameter=\"t\",\n",
    "    level_type=\"isobaricInhPa\",\n",
    "    level=850,\n",
    ") - 273.15\n",
    "field.plot()"
   ]
  },
  {
   "cell_type": "markdown",
   "id": "10",
   "metadata": {},
   "source": [
    "## 使用GRIB Key\n",
    "\n",
    "`level_type` 和 `level` 均支持使用字典类型的 GRIB Key 进行查询。\n",
    "\n",
    "ecCodes 不识别 CEMC 模式面要素场的层次类型，可以直接使用 `typeOfFirstFixedSurface:int=131` 进行查询。"
   ]
  },
  {
   "cell_type": "code",
   "execution_count": null,
   "id": "11",
   "metadata": {},
   "outputs": [],
   "source": [
    "field = load_field_from_file(\n",
    "    gfs_grib2_modelvar_file_path,\n",
    "    parameter=\"t\",\n",
    "    level_type={\n",
    "        \"typeOfFirstFixedSurface:int\": 131,\n",
    "    },\n",
    "    level=20,\n",
    ")\n",
    "field.attrs[\"GRIB_count\"]"
   ]
  },
  {
   "cell_type": "markdown",
   "id": "12",
   "metadata": {},
   "source": [
    "```{note}\n",
    "上述代码显式指定 `typeOfFirstFixedSurface` 的值类型为 int，否则需要使用默认的字符串格式。\n",
    "```"
   ]
  },
  {
   "cell_type": "code",
   "execution_count": null,
   "id": "13",
   "metadata": {},
   "outputs": [],
   "source": [
    "field = load_field_from_file(\n",
    "    gfs_grib2_modelvar_file_path,\n",
    "    parameter=\"t\",\n",
    "    level_type={\n",
    "        \"typeOfFirstFixedSurface\": \"131\",\n",
    "    },\n",
    "    level=20,\n",
    ")\n",
    "field.attrs[\"GRIB_count\"]"
   ]
  },
  {
   "cell_type": "markdown",
   "id": "14",
   "metadata": {},
   "source": [
    "modelvar 文件中所有要素场都是同一个层次类型，可以省略 `level_type` 参数。"
   ]
  },
  {
   "cell_type": "code",
   "execution_count": null,
   "id": "15",
   "metadata": {},
   "outputs": [],
   "source": [
    "field = load_field_from_file(\n",
    "    gfs_grib2_modelvar_file_path,\n",
    "    parameter=\"t\",\n",
    "    level=20,\n",
    ")\n",
    "field.attrs[\"GRIB_count\"]"
   ]
  },
  {
   "cell_type": "markdown",
   "id": "16",
   "metadata": {},
   "source": [
    "## 使用reki内置的层次类型\n",
    "\n",
    "reki 内置几种层次类型，用于简化查询条件。\n",
    "\n",
    "| reki层次类型 | 描述 | 等价ecCodes类型 |\n",
    "| --- | --- | --- |\n",
    "| pl | 等压面层，单位 hPa | typeOfFirstFixedSurface:int=100 |\n",
    "| sfc | 地面层 | typeOfLevel=surface |\n",
    "| ml | 模式面层 | typeOfFirstFixedSurface:int=131 |"
   ]
  },
  {
   "cell_type": "markdown",
   "id": "17",
   "metadata": {},
   "source": [
    "### pl\n",
    "\n",
    "pl 用于查询等压面层，单位 hPa，支持浮点数。"
   ]
  },
  {
   "cell_type": "code",
   "execution_count": null,
   "id": "18",
   "metadata": {},
   "outputs": [],
   "source": [
    "field = load_field_from_file(\n",
    "    gfs_grib2_orig_file_path,\n",
    "    parameter=\"t\",\n",
    "    level_type=\"pl\",\n",
    "    level=850,\n",
    ") - 273.15\n",
    "field.plot()"
   ]
  },
  {
   "cell_type": "code",
   "execution_count": null,
   "id": "19",
   "metadata": {},
   "outputs": [],
   "source": [
    "field = load_field_from_file(\n",
    "    gfs_grib2_orig_file_path,\n",
    "    parameter=\"t\",\n",
    "    level_type=\"pl\",\n",
    "    level=1.5,\n",
    ") - 273.15\n",
    "field.plot()"
   ]
  },
  {
   "cell_type": "code",
   "execution_count": null,
   "id": "20",
   "metadata": {},
   "outputs": [],
   "source": [
    "field = load_field_from_file(\n",
    "    gfs_grib2_orig_file_path,\n",
    "    parameter=\"t\",\n",
    "    level_type=\"pl\",\n",
    "    level=0.5,\n",
    ") - 273.15\n",
    "field.plot()"
   ]
  },
  {
   "cell_type": "markdown",
   "id": "21",
   "metadata": {},
   "source": [
    "### sfc\n",
    "\n",
    "sfc 用于查询地面层要素场，仅支持 typeOfLevel=\"surface\" 的要素场。"
   ]
  },
  {
   "cell_type": "code",
   "execution_count": null,
   "id": "22",
   "metadata": {},
   "outputs": [],
   "source": [
    "field = load_field_from_file(\n",
    "    gfs_grib2_orig_file_path,\n",
    "    parameter=\"t\",\n",
    "    level_type=\"sfc\",\n",
    ") - 273.15\n",
    "field.plot()"
   ]
  },
  {
   "cell_type": "markdown",
   "id": "23",
   "metadata": {},
   "source": [
    "### ml\n",
    "\n",
    "ml 用于检索模式面数据，正如之前提到的，模式面数据文件中只有一种层次类型，因此可以省略 level_type 参数。"
   ]
  },
  {
   "cell_type": "code",
   "execution_count": null,
   "id": "24",
   "metadata": {},
   "outputs": [],
   "source": [
    "field = load_field_from_file(\n",
    "    gfs_grib2_modelvar_file_path,\n",
    "    parameter=\"t\",\n",
    "    level_type=\"ml\",\n",
    "    level=1,\n",
    ") - 273.15\n",
    "field.plot()"
   ]
  },
  {
   "cell_type": "markdown",
   "id": "25",
   "metadata": {},
   "source": [
    "## 使用reki内置的层次\n",
    "\n",
    "reki 内置两个层次值键值 `first_level` 和 `second_level`，可以用于定位有两个层次定义的要素场。"
   ]
  },
  {
   "cell_type": "code",
   "execution_count": null,
   "id": "26",
   "metadata": {},
   "outputs": [],
   "source": [
    "field = load_field_from_file(\n",
    "    gfs_grib2_orig_file_path,\n",
    "    parameter=\"t\",\n",
    "    level_type=\"depthBelowLandLayer\",\n",
    "    level={\n",
    "        \"first_level\": 0.1,\n",
    "        \"second_level\": 0.4,\n",
    "    },\n",
    ") - 273.15\n",
    "field.plot()"
   ]
  }
 ],
 "metadata": {
  "kernelspec": {
   "display_name": "Python 3",
   "language": "python",
   "name": "python3"
  },
  "language_info": {
   "codemirror_mode": {
    "name": "ipython",
    "version": 3
   },
   "file_extension": ".py",
   "mimetype": "text/x-python",
   "name": "python",
   "nbconvert_exporter": "python",
   "pygments_lexer": "ipython3",
   "version": "3.12.11"
  }
 },
 "nbformat": 4,
 "nbformat_minor": 5
}
