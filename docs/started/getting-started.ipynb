{
 "cells": [
  {
   "cell_type": "markdown",
   "metadata": {},
   "source": [
    "# 开始使用\n",
    "\n",
    "本节介绍 reki 库的主要功能。\n",
    "\n",
    "首先导入需要使用的一些库。"
   ]
  },
  {
   "cell_type": "code",
   "execution_count": null,
   "metadata": {},
   "outputs": [],
   "source": [
    "import datetime\n",
    "\n",
    "import numpy as np\n",
    "import pandas as pd\n",
    "import xarray as xr\n",
    "import eccodes"
   ]
  },
  {
   "cell_type": "markdown",
   "metadata": {},
   "source": [
    "## 本地文件查找\n",
    "\n",
    "reki 内置了 CMA 国家级超算子系统 1 共享文件系统中业务系统产品文件路径。\n",
    "\n",
    "下面示例获取 CMA-GFS 系统 2024 年 7 月 3 日 00 时次 024 时效的原始分辨率 GRIB2 文件路径。"
   ]
  },
  {
   "cell_type": "code",
   "execution_count": null,
   "metadata": {},
   "outputs": [],
   "source": [
    "from reki.data_finder import find_local_file\n",
    "\n",
    "gfs_grib2_file_path = find_local_file(\n",
    "    \"cma_gfs_gmf/grib2/orig\",\n",
    "    start_time=pd.to_datetime(\"2024-07-03 00:00\"),\n",
    "    forecast_time=pd.to_timedelta(\"24h\")\n",
    ")\n",
    "gfs_grib2_file_path"
   ]
  },
  {
   "cell_type": "markdown",
   "metadata": {},
   "source": [
    "`find_local_file` 函数支持一些参数来定义更精确的文件查找条件。\n",
    "比如 `number` 参数表示集合预报成员编号。\n",
    "\n",
    "下面示例获取 CMA-GEPS 系统 2024 年 7 月 2 日 12 时次第 2 个集合成员 024 时效的原始分辨率 GRIB2 文件路径。"
   ]
  },
  {
   "cell_type": "code",
   "execution_count": null,
   "metadata": {},
   "outputs": [],
   "source": [
    "geps_grib2_file_path = find_local_file(\n",
    "    \"cma_geps/grib2/orig\",\n",
    "    start_time=\"2024070212\",\n",
    "    forecast_time=\"24h\",\n",
    "    number=2,\n",
    ")\n",
    "geps_grib2_file_path"
   ]
  },
  {
   "cell_type": "markdown",
   "metadata": {},
   "source": [
    "reki 也内置了模式输出的一些中间文件。\n",
    "\n",
    "下面示例获取 CMA-GFS 系统 2024 年 7 月 3 日 00 时次 240 时效的模式面二进制数据文件路径。"
   ]
  },
  {
   "cell_type": "code",
   "execution_count": null,
   "metadata": {},
   "outputs": [],
   "source": [
    "gfs_modelvar_file_path = find_local_file(\n",
    "    \"cma_gfs_gmf/bin/modelvar\",\n",
    "    start_time=datetime.datetime(2024, 7, 3, 0, 0),\n",
    "    forecast_time=\"24h\",\n",
    ")\n",
    "gfs_modelvar_file_path"
   ]
  },
  {
   "cell_type": "markdown",
   "metadata": {},
   "source": [
    "reki 内置的配置文件请查看 `reki/data_finder/conf` 目录。"
   ]
  },
  {
   "cell_type": "markdown",
   "metadata": {},
   "source": [
    "## 加载 GRIB2 要素场\n",
    "\n",
    "### 基本方法\n",
    "\n",
    "reki 使用 eccodes 从 GRIB2 文件中检索要素场，并返回 `xarray.DataArray` 对象。\n",
    "\n",
    "下面示例从 CMA-GFS 的 GRIB2 产品文件中加载 850hPa 温度场。其中：\n",
    "\n",
    "- `parameter` 参数表示要素名称，`t` 代表温度\n",
    "- `level_type` 参数表示层次类型，`pl` 代表等压面层，单位 hPa\n",
    "- `level` 参数表示层次值"
   ]
  },
  {
   "cell_type": "code",
   "execution_count": null,
   "metadata": {},
   "outputs": [],
   "source": [
    "from reki.format.grib.eccodes import load_field_from_file\n",
    "\n",
    "field = load_field_from_file(\n",
    "    gfs_grib2_file_path,\n",
    "    parameter=\"t\",\n",
    "    level_type=\"pl\",\n",
    "    level=850,\n",
    ")\n",
    "field"
   ]
  },
  {
   "cell_type": "markdown",
   "metadata": {},
   "source": [
    "可以使用 xarray 提供的一系列功能对要素场进行分析。比如使用 `xarray.DataArray.plot()` 函数实现快速绘图。"
   ]
  },
  {
   "cell_type": "code",
   "execution_count": null,
   "metadata": {},
   "outputs": [],
   "source": [
    "(field - 273.15).plot()"
   ]
  },
  {
   "cell_type": "markdown",
   "metadata": {},
   "source": [
    "### 层次类型\n",
    "\n",
    "reki 支持从模式面数据中加载要素场。\n",
    "\n",
    "下面代码从 CMA-GFS 的模式面 GRIB2 数据中加载第 10 层 u 分量，其中 `ml` 表示模式面。"
   ]
  },
  {
   "cell_type": "code",
   "execution_count": null,
   "metadata": {},
   "outputs": [],
   "source": [
    "gfs_model_grib2_file_path = find_local_file(\n",
    "    \"cma_gfs_gmf/grib2/modelvar\",\n",
    "    start_time=pd.to_datetime(\"2024-07-03 00:00\"),\n",
    "    forecast_time=pd.to_timedelta(\"24h\"),\n",
    ")\n",
    "gfs_model_grib2_file_path"
   ]
  },
  {
   "cell_type": "code",
   "execution_count": null,
   "metadata": {},
   "outputs": [],
   "source": [
    "field = load_field_from_file(\n",
    "    gfs_model_grib2_file_path,\n",
    "    parameter=\"u\",\n",
    "    level_type=\"ml\",\n",
    "    level=10,\n",
    ")\n",
    "field"
   ]
  },
  {
   "cell_type": "markdown",
   "metadata": {},
   "source": [
    "### GRIB Key\n",
    "\n",
    "`load_field_from_file` 函数支持使用 ecCodes 的 GRIB Key 作为参数值。\n",
    "\n",
    "下面代码通过字典形式的 `parameter` 参数加载 850hPa 雷达反射率场。"
   ]
  },
  {
   "cell_type": "code",
   "execution_count": null,
   "metadata": {},
   "outputs": [],
   "source": [
    "field = load_field_from_file(\n",
    "    gfs_grib2_file_path,\n",
    "    parameter={\n",
    "        \"discipline\": 0,\n",
    "        \"parameterCategory\": 16,\n",
    "        \"parameterNumber\": 225,\n",
    "    },\n",
    "    level_type=\"pl\",\n",
    "    level=850\n",
    ")\n",
    "field"
   ]
  },
  {
   "cell_type": "markdown",
   "metadata": {},
   "source": [
    "### ecCodes 接口\n",
    "\n",
    "reki 支持返回 ecCode Python API 的 GRIB message。\n",
    "\n",
    "下面代码加载 850hPa 位势高度场。首先获取 GRIB message。"
   ]
  },
  {
   "cell_type": "code",
   "execution_count": null,
   "metadata": {},
   "outputs": [],
   "source": [
    "from reki.format.grib.eccodes import load_message_from_file\n",
    "\n",
    "message = load_message_from_file(\n",
    "    gfs_grib2_file_path,\n",
    "    parameter=\"gh\",\n",
    "    level_type=\"pl\",\n",
    "    level=850\n",
    ")\n",
    "message"
   ]
  },
  {
   "cell_type": "markdown",
   "metadata": {},
   "source": [
    "读取经纬度格点数和数据值，将数据重组成二维数组。"
   ]
  },
  {
   "cell_type": "code",
   "execution_count": null,
   "metadata": {},
   "outputs": [],
   "source": [
    "values = eccodes.codes_get_double_array(message, \"values\")\n",
    "ni = eccodes.codes_get_long(message, \"Ni\")\n",
    "nj = eccodes.codes_get_long(message, \"Nj\")\n",
    "values.reshape(nj, ni)"
   ]
  },
  {
   "cell_type": "code",
   "execution_count": null,
   "metadata": {},
   "outputs": [],
   "source": []
  }
 ],
 "metadata": {
  "kernelspec": {
   "display_name": "Python 3",
   "language": "python",
   "name": "python3"
  },
  "language_info": {
   "codemirror_mode": {
    "name": "ipython",
    "version": 3
   },
   "file_extension": ".py",
   "mimetype": "text/x-python",
   "name": "python",
   "nbconvert_exporter": "python",
   "pygments_lexer": "ipython3",
   "version": "3.12.4"
  }
 },
 "nbformat": 4,
 "nbformat_minor": 2
}
